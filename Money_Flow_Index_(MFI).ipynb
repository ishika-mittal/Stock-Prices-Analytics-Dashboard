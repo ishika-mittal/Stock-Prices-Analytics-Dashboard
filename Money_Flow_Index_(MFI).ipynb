{
  "nbformat": 4,
  "nbformat_minor": 0,
  "metadata": {
    "colab": {
      "name": "Money Flow Index (MFI).ipynb",
      "provenance": [],
      "authorship_tag": "ABX9TyMt8eBOo2Znq3kdFFwixt60",
      "include_colab_link": true
    },
    "kernelspec": {
      "name": "python3",
      "display_name": "Python 3"
    },
    "language_info": {
      "name": "python"
    }
  },
  "cells": [
    {
      "cell_type": "markdown",
      "metadata": {
        "id": "view-in-github",
        "colab_type": "text"
      },
      "source": [
        "<a href=\"https://colab.research.google.com/github/ishika-mittal/Stock-Prices-Analytics-Dashboard/blob/main/Money_Flow_Index_(MFI).ipynb\" target=\"_parent\"><img src=\"https://colab.research.google.com/assets/colab-badge.svg\" alt=\"Open In Colab\"/></a>"
      ]
    },
    {
      "cell_type": "markdown",
      "metadata": {
        "id": "ZyPoXBHeY33n"
      },
      "source": [
        "## **Money Flow Index**\n",
        "\n",
        "1. MFI generates overbought or oversold signals using both prices and volume data.\n",
        "\n",
        "2. An MFI reading > 80 is considered overbought and an MFI reading < 20 is considered oversold.\n",
        "\n",
        "3. MFI is most beneficial when there is a divergence. A divergence is when the oscillator is moving in the opposite direction of price. This is a signal of a potential reversal in the prevailing price trend.\n",
        "\n",
        "4. Ex- a very high MFI, which begins to fall below 80, even when the closing price is increasing is a price reversal signal to the downside and vice-versa.\n",
        "\n",
        "5. In an uptrend, a drop < 20-30 followed by a rally back above it could indicate a pullback is over and the price uptrend is resuming. The same goes for a downtrend. A short-term rally could push the MFI up to 70 or 80, but when it drops back below that could be the time to enter a short trade in preparation for another drop.\n",
        "\n",
        "Details: https://www.investopedia.com/terms/m/mfi.asp "
      ]
    },
    {
      "cell_type": "code",
      "metadata": {
        "id": "nmiPeExmYxyg"
      },
      "source": [
        "#Importing Libraries\n",
        "import numpy as np\n",
        "import pandas as pd\n",
        "from pandas_datareader import data\n",
        "import matplotlib.pyplot as plt\n",
        "from datetime import datetime\n",
        "from datetime import timedelta\n",
        "import warnings\n",
        "warnings.filterwarnings('ignore')"
      ],
      "execution_count": 1,
      "outputs": []
    },
    {
      "cell_type": "code",
      "metadata": {
        "colab": {
          "base_uri": "https://localhost:8080/"
        },
        "id": "uJC5HALVZASZ",
        "outputId": "1abc5407-859f-4c04-a28e-3e9951ab8df5"
      },
      "source": [
        "#Installing yfinance library for fetching historical stock data\n",
        "!pip install yfinance\n",
        "import yfinance as yf"
      ],
      "execution_count": 2,
      "outputs": [
        {
          "output_type": "stream",
          "text": [
            "Collecting yfinance\n",
            "  Downloading https://files.pythonhosted.org/packages/a7/ee/315752b9ef281ba83c62aa7ec2e2074f85223da6e7e74efb4d3e11c0f510/yfinance-0.1.59.tar.gz\n",
            "Requirement already satisfied: pandas>=0.24 in /usr/local/lib/python3.7/dist-packages (from yfinance) (1.1.5)\n",
            "Requirement already satisfied: numpy>=1.15 in /usr/local/lib/python3.7/dist-packages (from yfinance) (1.19.5)\n",
            "Requirement already satisfied: requests>=2.20 in /usr/local/lib/python3.7/dist-packages (from yfinance) (2.23.0)\n",
            "Requirement already satisfied: multitasking>=0.0.7 in /usr/local/lib/python3.7/dist-packages (from yfinance) (0.0.9)\n",
            "Collecting lxml>=4.5.1\n",
            "\u001b[?25l  Downloading https://files.pythonhosted.org/packages/30/c0/d0526314971fc661b083ab135747dc68446a3022686da8c16d25fcf6ef07/lxml-4.6.3-cp37-cp37m-manylinux2014_x86_64.whl (6.3MB)\n",
            "\u001b[K     |████████████████████████████████| 6.3MB 21.4MB/s \n",
            "\u001b[?25hRequirement already satisfied: python-dateutil>=2.7.3 in /usr/local/lib/python3.7/dist-packages (from pandas>=0.24->yfinance) (2.8.1)\n",
            "Requirement already satisfied: pytz>=2017.2 in /usr/local/lib/python3.7/dist-packages (from pandas>=0.24->yfinance) (2018.9)\n",
            "Requirement already satisfied: certifi>=2017.4.17 in /usr/local/lib/python3.7/dist-packages (from requests>=2.20->yfinance) (2020.12.5)\n",
            "Requirement already satisfied: chardet<4,>=3.0.2 in /usr/local/lib/python3.7/dist-packages (from requests>=2.20->yfinance) (3.0.4)\n",
            "Requirement already satisfied: idna<3,>=2.5 in /usr/local/lib/python3.7/dist-packages (from requests>=2.20->yfinance) (2.10)\n",
            "Requirement already satisfied: urllib3!=1.25.0,!=1.25.1,<1.26,>=1.21.1 in /usr/local/lib/python3.7/dist-packages (from requests>=2.20->yfinance) (1.24.3)\n",
            "Requirement already satisfied: six>=1.5 in /usr/local/lib/python3.7/dist-packages (from python-dateutil>=2.7.3->pandas>=0.24->yfinance) (1.15.0)\n",
            "Building wheels for collected packages: yfinance\n",
            "  Building wheel for yfinance (setup.py) ... \u001b[?25l\u001b[?25hdone\n",
            "  Created wheel for yfinance: filename=yfinance-0.1.59-py2.py3-none-any.whl size=23455 sha256=e90529ad75509323d1e910d3c355ae8401047e5fedb820ee088b45d6be800a78\n",
            "  Stored in directory: /root/.cache/pip/wheels/f8/2a/0f/4b5a86e1d52e451757eb6bc17fd899629f0925c777741b6d04\n",
            "Successfully built yfinance\n",
            "Installing collected packages: lxml, yfinance\n",
            "  Found existing installation: lxml 4.2.6\n",
            "    Uninstalling lxml-4.2.6:\n",
            "      Successfully uninstalled lxml-4.2.6\n",
            "Successfully installed lxml-4.6.3 yfinance-0.1.59\n"
          ],
          "name": "stdout"
        }
      ]
    },
    {
      "cell_type": "code",
      "metadata": {
        "id": "9rzl4yTzZCCT"
      },
      "source": [
        "#Function to get the stock data\n",
        "def stock_data(stock, start_date, end_date):\n",
        "\n",
        "    tickerSymbol = stock\n",
        "\n",
        "    #get data on this ticker\n",
        "    tickerData = yf.Ticker(tickerSymbol)\n",
        "\n",
        "    #get the historical prices for this ticker\n",
        "    tickerDf = tickerData.history(period='1d', start=start_date, end=end_date)\n",
        "\n",
        "    return tickerDf"
      ],
      "execution_count": 3,
      "outputs": []
    },
    {
      "cell_type": "code",
      "metadata": {
        "colab": {
          "base_uri": "https://localhost:8080/",
          "height": 220
        },
        "id": "6QXjHHUVZDd7",
        "outputId": "e72975f9-4011-4fc9-bd74-edcb99e0ac77"
      },
      "source": [
        "#Fetching a 1Y dataset for better representation\n",
        "\n",
        "df = stock_data(\"ITC.BO\", \"2020-06-08\", \"2021-06-08\")\n",
        "df.reset_index(level=\"Date\", inplace=True)\n",
        "df.drop(columns = ['Dividends', 'Stock Splits'], inplace=True)\n",
        "\n",
        "print(df.shape)\n",
        "df.head()"
      ],
      "execution_count": 4,
      "outputs": [
        {
          "output_type": "stream",
          "text": [
            "(250, 6)\n"
          ],
          "name": "stdout"
        },
        {
          "output_type": "execute_result",
          "data": {
            "text/html": [
              "<div>\n",
              "<style scoped>\n",
              "    .dataframe tbody tr th:only-of-type {\n",
              "        vertical-align: middle;\n",
              "    }\n",
              "\n",
              "    .dataframe tbody tr th {\n",
              "        vertical-align: top;\n",
              "    }\n",
              "\n",
              "    .dataframe thead th {\n",
              "        text-align: right;\n",
              "    }\n",
              "</style>\n",
              "<table border=\"1\" class=\"dataframe\">\n",
              "  <thead>\n",
              "    <tr style=\"text-align: right;\">\n",
              "      <th></th>\n",
              "      <th>Date</th>\n",
              "      <th>Open</th>\n",
              "      <th>High</th>\n",
              "      <th>Low</th>\n",
              "      <th>Close</th>\n",
              "      <th>Volume</th>\n",
              "    </tr>\n",
              "  </thead>\n",
              "  <tbody>\n",
              "    <tr>\n",
              "      <th>0</th>\n",
              "      <td>2020-06-08</td>\n",
              "      <td>182.945035</td>\n",
              "      <td>184.074883</td>\n",
              "      <td>178.199672</td>\n",
              "      <td>178.742004</td>\n",
              "      <td>744734</td>\n",
              "    </tr>\n",
              "    <tr>\n",
              "      <th>1</th>\n",
              "      <td>2020-06-09</td>\n",
              "      <td>179.826649</td>\n",
              "      <td>186.289389</td>\n",
              "      <td>178.696801</td>\n",
              "      <td>179.510300</td>\n",
              "      <td>1341970</td>\n",
              "    </tr>\n",
              "    <tr>\n",
              "      <th>2</th>\n",
              "      <td>2020-06-10</td>\n",
              "      <td>180.052627</td>\n",
              "      <td>183.668142</td>\n",
              "      <td>179.284339</td>\n",
              "      <td>180.097824</td>\n",
              "      <td>1024793</td>\n",
              "    </tr>\n",
              "    <tr>\n",
              "      <th>3</th>\n",
              "      <td>2020-06-11</td>\n",
              "      <td>180.775730</td>\n",
              "      <td>181.905578</td>\n",
              "      <td>174.990912</td>\n",
              "      <td>175.894791</td>\n",
              "      <td>855456</td>\n",
              "    </tr>\n",
              "    <tr>\n",
              "      <th>4</th>\n",
              "      <td>2020-06-12</td>\n",
              "      <td>171.375387</td>\n",
              "      <td>176.482296</td>\n",
              "      <td>169.974373</td>\n",
              "      <td>175.352448</td>\n",
              "      <td>980250</td>\n",
              "    </tr>\n",
              "  </tbody>\n",
              "</table>\n",
              "</div>"
            ],
            "text/plain": [
              "        Date        Open        High         Low       Close   Volume\n",
              "0 2020-06-08  182.945035  184.074883  178.199672  178.742004   744734\n",
              "1 2020-06-09  179.826649  186.289389  178.696801  179.510300  1341970\n",
              "2 2020-06-10  180.052627  183.668142  179.284339  180.097824  1024793\n",
              "3 2020-06-11  180.775730  181.905578  174.990912  175.894791   855456\n",
              "4 2020-06-12  171.375387  176.482296  169.974373  175.352448   980250"
            ]
          },
          "metadata": {
            "tags": []
          },
          "execution_count": 4
        }
      ]
    },
    {
      "cell_type": "code",
      "metadata": {
        "colab": {
          "base_uri": "https://localhost:8080/",
          "height": 250
        },
        "id": "BXst_qyLZE8h",
        "outputId": "faf3d7d9-f859-465f-f919-9068d193f1e5"
      },
      "source": [
        "#Creating a dataset with only Closing Price column and Date as index\n",
        "\n",
        "data = df.sort_index(ascending=True,axis=0)\n",
        "df1 = pd.DataFrame(index=range(0,len(df)),columns=['Date','Close'])\n",
        "for i in range(0,len(data)):\n",
        "    df1[\"Date\"][i]=data['Date'][i]\n",
        "    df1[\"Close\"][i]=data[\"Close\"][i]\n",
        "\n",
        "df1.index=df1.Date\n",
        "df1.drop(\"Date\",axis=1,inplace=True)\n",
        "print(df1.shape)\n",
        "df1.head()"
      ],
      "execution_count": 5,
      "outputs": [
        {
          "output_type": "stream",
          "text": [
            "(250, 1)\n"
          ],
          "name": "stdout"
        },
        {
          "output_type": "execute_result",
          "data": {
            "text/html": [
              "<div>\n",
              "<style scoped>\n",
              "    .dataframe tbody tr th:only-of-type {\n",
              "        vertical-align: middle;\n",
              "    }\n",
              "\n",
              "    .dataframe tbody tr th {\n",
              "        vertical-align: top;\n",
              "    }\n",
              "\n",
              "    .dataframe thead th {\n",
              "        text-align: right;\n",
              "    }\n",
              "</style>\n",
              "<table border=\"1\" class=\"dataframe\">\n",
              "  <thead>\n",
              "    <tr style=\"text-align: right;\">\n",
              "      <th></th>\n",
              "      <th>Close</th>\n",
              "    </tr>\n",
              "    <tr>\n",
              "      <th>Date</th>\n",
              "      <th></th>\n",
              "    </tr>\n",
              "  </thead>\n",
              "  <tbody>\n",
              "    <tr>\n",
              "      <th>2020-06-08</th>\n",
              "      <td>178.742</td>\n",
              "    </tr>\n",
              "    <tr>\n",
              "      <th>2020-06-09</th>\n",
              "      <td>179.51</td>\n",
              "    </tr>\n",
              "    <tr>\n",
              "      <th>2020-06-10</th>\n",
              "      <td>180.098</td>\n",
              "    </tr>\n",
              "    <tr>\n",
              "      <th>2020-06-11</th>\n",
              "      <td>175.895</td>\n",
              "    </tr>\n",
              "    <tr>\n",
              "      <th>2020-06-12</th>\n",
              "      <td>175.352</td>\n",
              "    </tr>\n",
              "  </tbody>\n",
              "</table>\n",
              "</div>"
            ],
            "text/plain": [
              "              Close\n",
              "Date               \n",
              "2020-06-08  178.742\n",
              "2020-06-09   179.51\n",
              "2020-06-10  180.098\n",
              "2020-06-11  175.895\n",
              "2020-06-12  175.352"
            ]
          },
          "metadata": {
            "tags": []
          },
          "execution_count": 5
        }
      ]
    },
    {
      "cell_type": "code",
      "metadata": {
        "id": "rfyRkVdKZK10"
      },
      "source": [
        "#Defining Function\n",
        "\n",
        "def MFI(data, period):\n",
        "\n",
        "  #Calculating the typical price\n",
        "  typical_price = (data['Close'] + data['High'] + data['Low']) / 3\n",
        "\n",
        "  #Calculate the money flow\n",
        "  money_flow = typical_price * data['Volume']\n",
        "\n",
        "  #Get all of the positive and negative money flows \n",
        "  positive_flow =[]\n",
        "  negative_flow = []\n",
        "\n",
        "  for i in range(1, len(typical_price)):\n",
        "    if typical_price[i] > typical_price[i-1]: #if the present typical price is greater than yesterdays typical price\n",
        "      positive_flow.append(money_flow[i-1])# Then append money flow at position i-1 to the positive flow list\n",
        "      negative_flow.append(0)\n",
        "    elif typical_price[i] < typical_price[i-1]:#if the present typical price is less than yesterdays typical price\n",
        "      negative_flow.append(money_flow[i-1])# Then append money flow at position i-1 to negative flow list\n",
        "      positive_flow.append(0)\n",
        "    else:\n",
        "      positive_flow.append(0)\n",
        "      negative_flow.append(0)\n",
        "  \n",
        "  #Get all of the positive and negative money flows within the time period\n",
        "  positive_mf =[]\n",
        "  negative_mf = [] \n",
        "\n",
        "  for i in range(period-1, len(positive_flow)):\n",
        "    positive_mf.append(sum(positive_flow[i+1-period : i+1]))\n",
        "  for i in range(period-1, len(negative_flow)):\n",
        "    negative_mf.append(sum(negative_flow[i+1-period : i+1]))\n",
        "\n",
        "  #Calculating MFI\n",
        "  MFI = 100 * (np.array(positive_mf) / (np.array(positive_mf)  + np.array(negative_mf) ))\n",
        "\n",
        "  #Creating a new DataFrame as MFI and df was different indices by delta\n",
        "\n",
        "  new_df = pd.DataFrame()\n",
        "  new_df = data[period:]\n",
        "  new_df['MFI'] = MFI\n",
        "\n",
        "  return MFI, new_df"
      ],
      "execution_count": 6,
      "outputs": []
    },
    {
      "cell_type": "code",
      "metadata": {
        "colab": {
          "base_uri": "https://localhost:8080/",
          "height": 203
        },
        "id": "javOXPjeZLUh",
        "outputId": "e70b2216-71ef-4463-c5ec-b538680e7172"
      },
      "source": [
        "#Implementing Function\n",
        "\n",
        "Money_Flow_Index, new_df = MFI(df,14)\n",
        "new_df.head()"
      ],
      "execution_count": 7,
      "outputs": [
        {
          "output_type": "execute_result",
          "data": {
            "text/html": [
              "<div>\n",
              "<style scoped>\n",
              "    .dataframe tbody tr th:only-of-type {\n",
              "        vertical-align: middle;\n",
              "    }\n",
              "\n",
              "    .dataframe tbody tr th {\n",
              "        vertical-align: top;\n",
              "    }\n",
              "\n",
              "    .dataframe thead th {\n",
              "        text-align: right;\n",
              "    }\n",
              "</style>\n",
              "<table border=\"1\" class=\"dataframe\">\n",
              "  <thead>\n",
              "    <tr style=\"text-align: right;\">\n",
              "      <th></th>\n",
              "      <th>Date</th>\n",
              "      <th>Open</th>\n",
              "      <th>High</th>\n",
              "      <th>Low</th>\n",
              "      <th>Close</th>\n",
              "      <th>Volume</th>\n",
              "      <th>MFI</th>\n",
              "    </tr>\n",
              "  </thead>\n",
              "  <tbody>\n",
              "    <tr>\n",
              "      <th>14</th>\n",
              "      <td>2020-06-26</td>\n",
              "      <td>185.747074</td>\n",
              "      <td>189.136619</td>\n",
              "      <td>174.719756</td>\n",
              "      <td>176.346741</td>\n",
              "      <td>5776272</td>\n",
              "      <td>63.041321</td>\n",
              "    </tr>\n",
              "    <tr>\n",
              "      <th>15</th>\n",
              "      <td>2020-06-29</td>\n",
              "      <td>183.577750</td>\n",
              "      <td>183.577750</td>\n",
              "      <td>177.386176</td>\n",
              "      <td>178.244858</td>\n",
              "      <td>2641793</td>\n",
              "      <td>47.483800</td>\n",
              "    </tr>\n",
              "    <tr>\n",
              "      <th>16</th>\n",
              "      <td>2020-06-30</td>\n",
              "      <td>181.679608</td>\n",
              "      <td>181.679608</td>\n",
              "      <td>175.352458</td>\n",
              "      <td>175.894791</td>\n",
              "      <td>1763570</td>\n",
              "      <td>45.179282</td>\n",
              "    </tr>\n",
              "    <tr>\n",
              "      <th>17</th>\n",
              "      <td>2020-07-01</td>\n",
              "      <td>176.256339</td>\n",
              "      <td>184.210474</td>\n",
              "      <td>176.120763</td>\n",
              "      <td>183.216202</td>\n",
              "      <td>1762903</td>\n",
              "      <td>50.402343</td>\n",
              "    </tr>\n",
              "    <tr>\n",
              "      <th>18</th>\n",
              "      <td>2020-07-02</td>\n",
              "      <td>184.662399</td>\n",
              "      <td>186.876899</td>\n",
              "      <td>183.170991</td>\n",
              "      <td>186.198990</td>\n",
              "      <td>1427773</td>\n",
              "      <td>55.046204</td>\n",
              "    </tr>\n",
              "  </tbody>\n",
              "</table>\n",
              "</div>"
            ],
            "text/plain": [
              "         Date        Open        High  ...       Close   Volume        MFI\n",
              "14 2020-06-26  185.747074  189.136619  ...  176.346741  5776272  63.041321\n",
              "15 2020-06-29  183.577750  183.577750  ...  178.244858  2641793  47.483800\n",
              "16 2020-06-30  181.679608  181.679608  ...  175.894791  1763570  45.179282\n",
              "17 2020-07-01  176.256339  184.210474  ...  183.216202  1762903  50.402343\n",
              "18 2020-07-02  184.662399  186.876899  ...  186.198990  1427773  55.046204\n",
              "\n",
              "[5 rows x 7 columns]"
            ]
          },
          "metadata": {
            "tags": []
          },
          "execution_count": 7
        }
      ]
    },
    {
      "cell_type": "code",
      "metadata": {
        "colab": {
          "base_uri": "https://localhost:8080/",
          "height": 309
        },
        "id": "2EWYCTKVZM_1",
        "outputId": "4f70e919-33d4-48cb-f8eb-ea0a537dc3e5"
      },
      "source": [
        "#Plotting The Money Flow Index\n",
        "df2 = pd.DataFrame()\n",
        "df2['MFI'] = Money_Flow_Index\n",
        "\n",
        "plt.figure(figsize=(12.2,4.5))\n",
        "plt.plot( df2['MFI'],  label='MFI')\n",
        "\n",
        "plt.axhline(10, linestyle='--', color = 'orange')  #Over Sold line (Buy)\n",
        "plt.axhline(20, linestyle='--',color = 'blue')  #Over Sold Line (Buy)\n",
        "plt.axhline(80, linestyle='--', color = 'blue')  #Over Bought line (Sell)\n",
        "plt.axhline(90, linestyle='--', color = 'orange')  #Over Bought line (Sell)\n",
        "\n",
        "plt.title('MFI')\n",
        "plt.ylabel('MFI Values',fontsize=18)\n",
        "plt.legend(df2.columns.values, loc='upper left')\n",
        "\n",
        "plt.show()"
      ],
      "execution_count": 8,
      "outputs": [
        {
          "output_type": "display_data",
          "data": {
            "image/png": "[encoded data removed]",
            "text/plain": [
              "<Figure size 878.4x324 with 1 Axes>"
            ]
          },
          "metadata": {
            "tags": [],
            "needs_background": "light"
          }
        }
      ]
    }
  ]
}