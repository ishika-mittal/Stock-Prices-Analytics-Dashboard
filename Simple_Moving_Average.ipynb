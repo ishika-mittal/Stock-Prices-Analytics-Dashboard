{
  "nbformat": 4,
  "nbformat_minor": 0,
  "metadata": {
    "colab": {
      "name": "Simple Moving Average.ipynb",
      "provenance": [],
      "authorship_tag": "ABX9TyOfbO2WCYZ4vv58o5NJlWnh",
      "include_colab_link": true
    },
    "kernelspec": {
      "name": "python3",
      "display_name": "Python 3"
    },
    "language_info": {
      "name": "python"
    }
  },
  "cells": [
    {
      "cell_type": "markdown",
      "metadata": {
        "id": "view-in-github",
        "colab_type": "text"
      },
      "source": [
        "<a href=\"https://colab.research.google.com/github/ishika-mittal/Stock-Prices-Analytics-Dashboard/blob/main/Simple_Moving_Average.ipynb\" target=\"_parent\"><img src=\"https://colab.research.google.com/assets/colab-badge.svg\" alt=\"Open In Colab\"/></a>"
      ]
    },
    {
      "cell_type": "markdown",
      "metadata": {
        "id": "pKfi7PPyUdsB"
      },
      "source": [
        "### Simple Moving Average\n",
        "\n",
        "1. There simple objective to smoothen the fluctuation by determining an avergae price within the given time period.\n",
        "\n",
        "2. They help analyse and predict the trend of the stock. A rising SMA-> uptrend, while a declining SMA-> downtrend.\n",
        "\n",
        "3. You can also plot SMAs with two different time periods to identify crossover. An upward momentum is confirmed with a bullish crossover, which occurs when a short-term moving average crosses above a longer-term moving average. Conversely, downward momentum is confirmed with a bearish crossover, which occurs when a short-term moving average crosses below a longer-term moving average.\n",
        "\n",
        "4. There is no fixed time period for calculating SMA. Shorter moving averages are typically used for short-term trading, while longer-term moving averages are more suited for long-term investors.\n",
        "\n",
        "Detailed Explanation - https://www.investopedia.com/terms/m/movingaverage.asp"
      ]
    },
    {
      "cell_type": "code",
      "metadata": {
        "id": "l8JmzxBRUKAP"
      },
      "source": [
        "#Importing Libraries\n",
        "import numpy as np\n",
        "import pandas as pd\n",
        "from pandas_datareader import data\n",
        "import matplotlib.pyplot as plt\n",
        "from datetime import datetime\n",
        "from datetime import timedelta\n",
        "import warnings\n",
        "warnings.filterwarnings('ignore')"
      ],
      "execution_count": 1,
      "outputs": []
    },
    {
      "cell_type": "code",
      "metadata": {
        "colab": {
          "base_uri": "https://localhost:8080/"
        },
        "id": "O9sRID36URIM",
        "outputId": "96923fa1-c458-42bb-9854-d91a21cab560"
      },
      "source": [
        "#Installing yfinance library for fetching historical stock data\n",
        "!pip install yfinance\n",
        "import yfinance as yf"
      ],
      "execution_count": 2,
      "outputs": [
        {
          "output_type": "stream",
          "text": [
            "Collecting yfinance\n",
            "  Downloading https://files.pythonhosted.org/packages/a7/ee/315752b9ef281ba83c62aa7ec2e2074f85223da6e7e74efb4d3e11c0f510/yfinance-0.1.59.tar.gz\n",
            "Requirement already satisfied: pandas>=0.24 in /usr/local/lib/python3.7/dist-packages (from yfinance) (1.1.5)\n",
            "Requirement already satisfied: numpy>=1.15 in /usr/local/lib/python3.7/dist-packages (from yfinance) (1.19.5)\n",
            "Requirement already satisfied: requests>=2.20 in /usr/local/lib/python3.7/dist-packages (from yfinance) (2.23.0)\n",
            "Requirement already satisfied: multitasking>=0.0.7 in /usr/local/lib/python3.7/dist-packages (from yfinance) (0.0.9)\n",
            "Collecting lxml>=4.5.1\n",
            "\u001b[?25l  Downloading https://files.pythonhosted.org/packages/30/c0/d0526314971fc661b083ab135747dc68446a3022686da8c16d25fcf6ef07/lxml-4.6.3-cp37-cp37m-manylinux2014_x86_64.whl (6.3MB)\n",
            "\u001b[K     |████████████████████████████████| 6.3MB 10.9MB/s \n",
            "\u001b[?25hRequirement already satisfied: pytz>=2017.2 in /usr/local/lib/python3.7/dist-packages (from pandas>=0.24->yfinance) (2018.9)\n",
            "Requirement already satisfied: python-dateutil>=2.7.3 in /usr/local/lib/python3.7/dist-packages (from pandas>=0.24->yfinance) (2.8.1)\n",
            "Requirement already satisfied: idna<3,>=2.5 in /usr/local/lib/python3.7/dist-packages (from requests>=2.20->yfinance) (2.10)\n",
            "Requirement already satisfied: chardet<4,>=3.0.2 in /usr/local/lib/python3.7/dist-packages (from requests>=2.20->yfinance) (3.0.4)\n",
            "Requirement already satisfied: urllib3!=1.25.0,!=1.25.1,<1.26,>=1.21.1 in /usr/local/lib/python3.7/dist-packages (from requests>=2.20->yfinance) (1.24.3)\n",
            "Requirement already satisfied: certifi>=2017.4.17 in /usr/local/lib/python3.7/dist-packages (from requests>=2.20->yfinance) (2020.12.5)\n",
            "Requirement already satisfied: six>=1.5 in /usr/local/lib/python3.7/dist-packages (from python-dateutil>=2.7.3->pandas>=0.24->yfinance) (1.15.0)\n",
            "Building wheels for collected packages: yfinance\n",
            "  Building wheel for yfinance (setup.py) ... \u001b[?25l\u001b[?25hdone\n",
            "  Created wheel for yfinance: filename=yfinance-0.1.59-py2.py3-none-any.whl size=23455 sha256=2b1d06797b3a23c8f1385b66e4af2e99a753a7dc9bfef84f41e51b9c5673e558\n",
            "  Stored in directory: /root/.cache/pip/wheels/f8/2a/0f/4b5a86e1d52e451757eb6bc17fd899629f0925c777741b6d04\n",
            "Successfully built yfinance\n",
            "Installing collected packages: lxml, yfinance\n",
            "  Found existing installation: lxml 4.2.6\n",
            "    Uninstalling lxml-4.2.6:\n",
            "      Successfully uninstalled lxml-4.2.6\n",
            "Successfully installed lxml-4.6.3 yfinance-0.1.59\n"
          ],
          "name": "stdout"
        }
      ]
    },
    {
      "cell_type": "code",
      "metadata": {
        "id": "-FCKODqSUStx"
      },
      "source": [
        "#Function to get the stock data\n",
        "def stock_data(stock, start_date, end_date):\n",
        "\n",
        "    tickerSymbol = stock\n",
        "\n",
        "    #get data on this ticker\n",
        "    tickerData = yf.Ticker(tickerSymbol)\n",
        "\n",
        "    #get the historical prices for this ticker\n",
        "    tickerDf = tickerData.history(period='1d', start=start_date, end=end_date)\n",
        "\n",
        "    return tickerDf"
      ],
      "execution_count": 3,
      "outputs": []
    },
    {
      "cell_type": "code",
      "metadata": {
        "colab": {
          "base_uri": "https://localhost:8080/",
          "height": 220
        },
        "id": "qPiHTsEPUUXD",
        "outputId": "d6177120-acee-4953-ea58-340da7eec0e8"
      },
      "source": [
        "#Fetching a 1Y dataset for better representation\n",
        "\n",
        "df = stock_data(\"ITC.BO\", \"2020-06-08\", \"2021-06-08\")\n",
        "df.reset_index(level=\"Date\", inplace=True)\n",
        "df.drop(columns = ['Dividends', 'Stock Splits'], inplace=True)\n",
        "\n",
        "print(df.shape)\n",
        "df.head()"
      ],
      "execution_count": 4,
      "outputs": [
        {
          "output_type": "stream",
          "text": [
            "(250, 6)\n"
          ],
          "name": "stdout"
        },
        {
          "output_type": "execute_result",
          "data": {
            "text/html": [
              "<div>\n",
              "<style scoped>\n",
              "    .dataframe tbody tr th:only-of-type {\n",
              "        vertical-align: middle;\n",
              "    }\n",
              "\n",
              "    .dataframe tbody tr th {\n",
              "        vertical-align: top;\n",
              "    }\n",
              "\n",
              "    .dataframe thead th {\n",
              "        text-align: right;\n",
              "    }\n",
              "</style>\n",
              "<table border=\"1\" class=\"dataframe\">\n",
              "  <thead>\n",
              "    <tr style=\"text-align: right;\">\n",
              "      <th></th>\n",
              "      <th>Date</th>\n",
              "      <th>Open</th>\n",
              "      <th>High</th>\n",
              "      <th>Low</th>\n",
              "      <th>Close</th>\n",
              "      <th>Volume</th>\n",
              "    </tr>\n",
              "  </thead>\n",
              "  <tbody>\n",
              "    <tr>\n",
              "      <th>0</th>\n",
              "      <td>2020-06-08</td>\n",
              "      <td>182.945035</td>\n",
              "      <td>184.074883</td>\n",
              "      <td>178.199672</td>\n",
              "      <td>178.742004</td>\n",
              "      <td>744734</td>\n",
              "    </tr>\n",
              "    <tr>\n",
              "      <th>1</th>\n",
              "      <td>2020-06-09</td>\n",
              "      <td>179.826649</td>\n",
              "      <td>186.289389</td>\n",
              "      <td>178.696801</td>\n",
              "      <td>179.510300</td>\n",
              "      <td>1341970</td>\n",
              "    </tr>\n",
              "    <tr>\n",
              "      <th>2</th>\n",
              "      <td>2020-06-10</td>\n",
              "      <td>180.052627</td>\n",
              "      <td>183.668142</td>\n",
              "      <td>179.284339</td>\n",
              "      <td>180.097824</td>\n",
              "      <td>1024793</td>\n",
              "    </tr>\n",
              "    <tr>\n",
              "      <th>3</th>\n",
              "      <td>2020-06-11</td>\n",
              "      <td>180.775730</td>\n",
              "      <td>181.905578</td>\n",
              "      <td>174.990912</td>\n",
              "      <td>175.894791</td>\n",
              "      <td>855456</td>\n",
              "    </tr>\n",
              "    <tr>\n",
              "      <th>4</th>\n",
              "      <td>2020-06-12</td>\n",
              "      <td>171.375387</td>\n",
              "      <td>176.482296</td>\n",
              "      <td>169.974373</td>\n",
              "      <td>175.352448</td>\n",
              "      <td>980250</td>\n",
              "    </tr>\n",
              "  </tbody>\n",
              "</table>\n",
              "</div>"
            ],
            "text/plain": [
              "        Date        Open        High         Low       Close   Volume\n",
              "0 2020-06-08  182.945035  184.074883  178.199672  178.742004   744734\n",
              "1 2020-06-09  179.826649  186.289389  178.696801  179.510300  1341970\n",
              "2 2020-06-10  180.052627  183.668142  179.284339  180.097824  1024793\n",
              "3 2020-06-11  180.775730  181.905578  174.990912  175.894791   855456\n",
              "4 2020-06-12  171.375387  176.482296  169.974373  175.352448   980250"
            ]
          },
          "metadata": {
            "tags": []
          },
          "execution_count": 4
        }
      ]
    },
    {
      "cell_type": "code",
      "metadata": {
        "colab": {
          "base_uri": "https://localhost:8080/",
          "height": 250
        },
        "id": "_5LP10iAUY1s",
        "outputId": "cb52de8f-15e2-474f-c6f4-69f8f814db56"
      },
      "source": [
        "#Creating a dataset with only Closing Price column and Date as index\n",
        "\n",
        "data = df.sort_index(ascending=True,axis=0)\n",
        "df1 = pd.DataFrame(index=range(0,len(df)),columns=['Date','Close'])\n",
        "for i in range(0,len(data)):\n",
        "    df1[\"Date\"][i]=data['Date'][i]\n",
        "    df1[\"Close\"][i]=data[\"Close\"][i]\n",
        "\n",
        "df1.index=df1.Date\n",
        "df1.drop(\"Date\",axis=1,inplace=True)\n",
        "print(df1.shape)\n",
        "df1.head()"
      ],
      "execution_count": 5,
      "outputs": [
        {
          "output_type": "stream",
          "text": [
            "(250, 1)\n"
          ],
          "name": "stdout"
        },
        {
          "output_type": "execute_result",
          "data": {
            "text/html": [
              "<div>\n",
              "<style scoped>\n",
              "    .dataframe tbody tr th:only-of-type {\n",
              "        vertical-align: middle;\n",
              "    }\n",
              "\n",
              "    .dataframe tbody tr th {\n",
              "        vertical-align: top;\n",
              "    }\n",
              "\n",
              "    .dataframe thead th {\n",
              "        text-align: right;\n",
              "    }\n",
              "</style>\n",
              "<table border=\"1\" class=\"dataframe\">\n",
              "  <thead>\n",
              "    <tr style=\"text-align: right;\">\n",
              "      <th></th>\n",
              "      <th>Close</th>\n",
              "    </tr>\n",
              "    <tr>\n",
              "      <th>Date</th>\n",
              "      <th></th>\n",
              "    </tr>\n",
              "  </thead>\n",
              "  <tbody>\n",
              "    <tr>\n",
              "      <th>2020-06-08</th>\n",
              "      <td>178.742</td>\n",
              "    </tr>\n",
              "    <tr>\n",
              "      <th>2020-06-09</th>\n",
              "      <td>179.51</td>\n",
              "    </tr>\n",
              "    <tr>\n",
              "      <th>2020-06-10</th>\n",
              "      <td>180.098</td>\n",
              "    </tr>\n",
              "    <tr>\n",
              "      <th>2020-06-11</th>\n",
              "      <td>175.895</td>\n",
              "    </tr>\n",
              "    <tr>\n",
              "      <th>2020-06-12</th>\n",
              "      <td>175.352</td>\n",
              "    </tr>\n",
              "  </tbody>\n",
              "</table>\n",
              "</div>"
            ],
            "text/plain": [
              "              Close\n",
              "Date               \n",
              "2020-06-08  178.742\n",
              "2020-06-09   179.51\n",
              "2020-06-10  180.098\n",
              "2020-06-11  175.895\n",
              "2020-06-12  175.352"
            ]
          },
          "metadata": {
            "tags": []
          },
          "execution_count": 5
        }
      ]
    },
    {
      "cell_type": "code",
      "metadata": {
        "id": "VeuGTcsiUaeO"
      },
      "source": [
        "#Defining the function\n",
        "\n",
        "def MA(data, window_size):\n",
        "\n",
        "  data1 = data\n",
        "  data1 = pd.Series(data1[\"Close\"])\n",
        "\n",
        "  #Calculating Moving average for a given time period\n",
        "  moving_avg = data1.rolling(window = window_size).mean()\n",
        "  #Parsing the results as a new column in the existing data frame\n",
        "  data[\"Moving_Avg\"] = moving_avg\n",
        "\n",
        "  return data"
      ],
      "execution_count": 6,
      "outputs": []
    },
    {
      "cell_type": "code",
      "metadata": {
        "colab": {
          "base_uri": "https://localhost:8080/",
          "height": 388
        },
        "id": "OoVySwAEUo4R",
        "outputId": "439c3fe9-ba27-4d53-91c4-dc8544b33176"
      },
      "source": [
        "#Implementing the function\n",
        "MA(df1,30)\n",
        "\n",
        "#Note: First window_size values under Moving_avg as empty as they are used in inital calculation\n",
        "df1.iloc[20:30,:]"
      ],
      "execution_count": 7,
      "outputs": [
        {
          "output_type": "execute_result",
          "data": {
            "text/html": [
              "<div>\n",
              "<style scoped>\n",
              "    .dataframe tbody tr th:only-of-type {\n",
              "        vertical-align: middle;\n",
              "    }\n",
              "\n",
              "    .dataframe tbody tr th {\n",
              "        vertical-align: top;\n",
              "    }\n",
              "\n",
              "    .dataframe thead th {\n",
              "        text-align: right;\n",
              "    }\n",
              "</style>\n",
              "<table border=\"1\" class=\"dataframe\">\n",
              "  <thead>\n",
              "    <tr style=\"text-align: right;\">\n",
              "      <th></th>\n",
              "      <th>Close</th>\n",
              "      <th>Moving_Avg</th>\n",
              "    </tr>\n",
              "    <tr>\n",
              "      <th>Date</th>\n",
              "      <th></th>\n",
              "      <th></th>\n",
              "    </tr>\n",
              "  </thead>\n",
              "  <tbody>\n",
              "    <tr>\n",
              "      <th>2020-07-06</th>\n",
              "      <td>189.843</td>\n",
              "      <td>NaN</td>\n",
              "    </tr>\n",
              "    <tr>\n",
              "      <th>2020-07-07</th>\n",
              "      <td>184.663</td>\n",
              "      <td>NaN</td>\n",
              "    </tr>\n",
              "    <tr>\n",
              "      <th>2020-07-08</th>\n",
              "      <td>186.516</td>\n",
              "      <td>NaN</td>\n",
              "    </tr>\n",
              "    <tr>\n",
              "      <th>2020-07-09</th>\n",
              "      <td>185.756</td>\n",
              "      <td>NaN</td>\n",
              "    </tr>\n",
              "    <tr>\n",
              "      <th>2020-07-10</th>\n",
              "      <td>184.663</td>\n",
              "      <td>NaN</td>\n",
              "    </tr>\n",
              "    <tr>\n",
              "      <th>2020-07-13</th>\n",
              "      <td>187.657</td>\n",
              "      <td>NaN</td>\n",
              "    </tr>\n",
              "    <tr>\n",
              "      <th>2020-07-14</th>\n",
              "      <td>186.279</td>\n",
              "      <td>NaN</td>\n",
              "    </tr>\n",
              "    <tr>\n",
              "      <th>2020-07-15</th>\n",
              "      <td>188.655</td>\n",
              "      <td>NaN</td>\n",
              "    </tr>\n",
              "    <tr>\n",
              "      <th>2020-07-16</th>\n",
              "      <td>184.235</td>\n",
              "      <td>NaN</td>\n",
              "    </tr>\n",
              "    <tr>\n",
              "      <th>2020-07-17</th>\n",
              "      <td>184.378</td>\n",
              "      <td>178.87983</td>\n",
              "    </tr>\n",
              "  </tbody>\n",
              "</table>\n",
              "</div>"
            ],
            "text/plain": [
              "              Close  Moving_Avg\n",
              "Date                           \n",
              "2020-07-06  189.843         NaN\n",
              "2020-07-07  184.663         NaN\n",
              "2020-07-08  186.516         NaN\n",
              "2020-07-09  185.756         NaN\n",
              "2020-07-10  184.663         NaN\n",
              "2020-07-13  187.657         NaN\n",
              "2020-07-14  186.279         NaN\n",
              "2020-07-15  188.655         NaN\n",
              "2020-07-16  184.235         NaN\n",
              "2020-07-17  184.378   178.87983"
            ]
          },
          "metadata": {
            "tags": []
          },
          "execution_count": 7
        }
      ]
    },
    {
      "cell_type": "code",
      "metadata": {
        "colab": {
          "base_uri": "https://localhost:8080/",
          "height": 513
        },
        "id": "ElvK5StTUqkt",
        "outputId": "8dad2452-5089-4274-ce31-f5ba33303873"
      },
      "source": [
        "#Plotting Moving Average wrt to Closing Price\n",
        "\n",
        "#Setting labels\n",
        "plt.figure(figsize=(17,8))\n",
        "plt.xlabel(\"Year\")\n",
        "plt.ylabel(\"Closing Price in INR\")\n",
        "plt.title(\"MOVING AVERAGE INDICATOR\")\n",
        "\n",
        "#Let's go\n",
        "plt.plot(df1[['Close','Moving_Avg']])\n",
        "plt.legend([\"Closing Price\", \"MA\"], loc =\"lower right\")\n",
        "plt.show()"
      ],
      "execution_count": 8,
      "outputs": [
        {
          "output_type": "display_data",
          "data": {
            "image/png": "[encoded data removed]",
            "text/plain": [
              "<Figure size 1224x576 with 1 Axes>"
            ]
          },
          "metadata": {
            "tags": [],
            "needs_background": "light"
          }
        }
      ]
    }
  ]
}