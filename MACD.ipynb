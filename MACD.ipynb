{
  "nbformat": 4,
  "nbformat_minor": 0,
  "metadata": {
    "colab": {
      "name": "MACD.ipynb",
      "provenance": [],
      "authorship_tag": "ABX9TyOx3BvqSvSpQ7hEmnv+yhQk",
      "include_colab_link": true
    },
    "kernelspec": {
      "name": "python3",
      "display_name": "Python 3"
    },
    "language_info": {
      "name": "python"
    }
  },
  "cells": [
    {
      "cell_type": "markdown",
      "metadata": {
        "id": "view-in-github",
        "colab_type": "text"
      },
      "source": [
        "<a href=\"https://colab.research.google.com/github/ishika-mittal/Stock-Prices-Analytics-Dashboard/blob/main/MACD.ipynb\" target=\"_parent\"><img src=\"https://colab.research.google.com/assets/colab-badge.svg\" alt=\"Open In Colab\"/></a>"
      ]
    },
    {
      "cell_type": "markdown",
      "metadata": {
        "id": "YqP3fV-SYXsw"
      },
      "source": [
        "### **I6: Moving average convergence divergence (MACD)**\n",
        "\n",
        "1. Its a trend-following momentum indicator and is calculated by subtracting the 26-period EMA from the 12-period EMA, called the MACD line.\n",
        "\n",
        "2. A nine-day EMA of the MACD called the \"signal line,\" is then plotted on top of the MACD line.\n",
        "\n",
        "3. Traders may buy the security when the MACD crosses above its signal line and sell—or short—the security when the MACD crosses below the signal line.\n",
        "\n",
        "Details: https://www.investopedia.com/terms/m/macd.asp \n",
        "\n"
      ]
    },
    {
      "cell_type": "code",
      "metadata": {
        "id": "ofCO8FoOYWLK"
      },
      "source": [
        "#Importing Libraries\n",
        "import numpy as np\n",
        "import pandas as pd\n",
        "from pandas_datareader import data\n",
        "import matplotlib.pyplot as plt\n",
        "from datetime import datetime\n",
        "from datetime import timedelta\n",
        "import warnings\n",
        "warnings.filterwarnings('ignore')"
      ],
      "execution_count": 1,
      "outputs": []
    },
    {
      "cell_type": "code",
      "metadata": {
        "colab": {
          "base_uri": "https://localhost:8080/"
        },
        "id": "XTcjMd-iYgF1",
        "outputId": "bda7216a-9763-4c11-ec0e-e8d8dbb6abb4"
      },
      "source": [
        "#Installing yfinance library for fetching historical stock data\n",
        "!pip install yfinance\n",
        "import yfinance as yf"
      ],
      "execution_count": 2,
      "outputs": [
        {
          "output_type": "stream",
          "text": [
            "Collecting yfinance\n",
            "  Downloading https://files.pythonhosted.org/packages/a7/ee/315752b9ef281ba83c62aa7ec2e2074f85223da6e7e74efb4d3e11c0f510/yfinance-0.1.59.tar.gz\n",
            "Requirement already satisfied: pandas>=0.24 in /usr/local/lib/python3.7/dist-packages (from yfinance) (1.1.5)\n",
            "Requirement already satisfied: numpy>=1.15 in /usr/local/lib/python3.7/dist-packages (from yfinance) (1.19.5)\n",
            "Requirement already satisfied: requests>=2.20 in /usr/local/lib/python3.7/dist-packages (from yfinance) (2.23.0)\n",
            "Requirement already satisfied: multitasking>=0.0.7 in /usr/local/lib/python3.7/dist-packages (from yfinance) (0.0.9)\n",
            "Collecting lxml>=4.5.1\n",
            "\u001b[?25l  Downloading https://files.pythonhosted.org/packages/30/c0/d0526314971fc661b083ab135747dc68446a3022686da8c16d25fcf6ef07/lxml-4.6.3-cp37-cp37m-manylinux2014_x86_64.whl (6.3MB)\n",
            "\u001b[K     |████████████████████████████████| 6.3MB 6.1MB/s \n",
            "\u001b[?25hRequirement already satisfied: python-dateutil>=2.7.3 in /usr/local/lib/python3.7/dist-packages (from pandas>=0.24->yfinance) (2.8.1)\n",
            "Requirement already satisfied: pytz>=2017.2 in /usr/local/lib/python3.7/dist-packages (from pandas>=0.24->yfinance) (2018.9)\n",
            "Requirement already satisfied: urllib3!=1.25.0,!=1.25.1,<1.26,>=1.21.1 in /usr/local/lib/python3.7/dist-packages (from requests>=2.20->yfinance) (1.24.3)\n",
            "Requirement already satisfied: idna<3,>=2.5 in /usr/local/lib/python3.7/dist-packages (from requests>=2.20->yfinance) (2.10)\n",
            "Requirement already satisfied: chardet<4,>=3.0.2 in /usr/local/lib/python3.7/dist-packages (from requests>=2.20->yfinance) (3.0.4)\n",
            "Requirement already satisfied: certifi>=2017.4.17 in /usr/local/lib/python3.7/dist-packages (from requests>=2.20->yfinance) (2020.12.5)\n",
            "Requirement already satisfied: six>=1.5 in /usr/local/lib/python3.7/dist-packages (from python-dateutil>=2.7.3->pandas>=0.24->yfinance) (1.15.0)\n",
            "Building wheels for collected packages: yfinance\n",
            "  Building wheel for yfinance (setup.py) ... \u001b[?25l\u001b[?25hdone\n",
            "  Created wheel for yfinance: filename=yfinance-0.1.59-py2.py3-none-any.whl size=23455 sha256=6ad6a3c55205156a9dd8b431cba061cbb838821b66bec6dff43383761369837d\n",
            "  Stored in directory: /root/.cache/pip/wheels/f8/2a/0f/4b5a86e1d52e451757eb6bc17fd899629f0925c777741b6d04\n",
            "Successfully built yfinance\n",
            "Installing collected packages: lxml, yfinance\n",
            "  Found existing installation: lxml 4.2.6\n",
            "    Uninstalling lxml-4.2.6:\n",
            "      Successfully uninstalled lxml-4.2.6\n",
            "Successfully installed lxml-4.6.3 yfinance-0.1.59\n"
          ],
          "name": "stdout"
        }
      ]
    },
    {
      "cell_type": "code",
      "metadata": {
        "id": "SErnhESTYiZf"
      },
      "source": [
        "#Function to get the stock data\n",
        "def stock_data(stock, start_date, end_date):\n",
        "\n",
        "    tickerSymbol = stock\n",
        "\n",
        "    #get data on this ticker\n",
        "    tickerData = yf.Ticker(tickerSymbol)\n",
        "\n",
        "    #get the historical prices for this ticker\n",
        "    tickerDf = tickerData.history(period='1d', start=start_date, end=end_date)\n",
        "\n",
        "    return tickerDf"
      ],
      "execution_count": 3,
      "outputs": []
    },
    {
      "cell_type": "code",
      "metadata": {
        "colab": {
          "base_uri": "https://localhost:8080/",
          "height": 220
        },
        "id": "RAuHf2P2Ykag",
        "outputId": "3abb1a83-4d84-401d-c3d5-a57587aaff3d"
      },
      "source": [
        "#Fetching a 1Y dataset for better representation\n",
        "\n",
        "df = stock_data(\"ITC.BO\", \"2020-06-08\", \"2021-06-08\")\n",
        "df.reset_index(level=\"Date\", inplace=True)\n",
        "df.drop(columns = ['Dividends', 'Stock Splits'], inplace=True)\n",
        "\n",
        "print(df.shape)\n",
        "df.head()"
      ],
      "execution_count": 4,
      "outputs": [
        {
          "output_type": "stream",
          "text": [
            "(250, 6)\n"
          ],
          "name": "stdout"
        },
        {
          "output_type": "execute_result",
          "data": {
            "text/html": [
              "<div>\n",
              "<style scoped>\n",
              "    .dataframe tbody tr th:only-of-type {\n",
              "        vertical-align: middle;\n",
              "    }\n",
              "\n",
              "    .dataframe tbody tr th {\n",
              "        vertical-align: top;\n",
              "    }\n",
              "\n",
              "    .dataframe thead th {\n",
              "        text-align: right;\n",
              "    }\n",
              "</style>\n",
              "<table border=\"1\" class=\"dataframe\">\n",
              "  <thead>\n",
              "    <tr style=\"text-align: right;\">\n",
              "      <th></th>\n",
              "      <th>Date</th>\n",
              "      <th>Open</th>\n",
              "      <th>High</th>\n",
              "      <th>Low</th>\n",
              "      <th>Close</th>\n",
              "      <th>Volume</th>\n",
              "    </tr>\n",
              "  </thead>\n",
              "  <tbody>\n",
              "    <tr>\n",
              "      <th>0</th>\n",
              "      <td>2020-06-08</td>\n",
              "      <td>182.945035</td>\n",
              "      <td>184.074883</td>\n",
              "      <td>178.199672</td>\n",
              "      <td>178.742004</td>\n",
              "      <td>744734</td>\n",
              "    </tr>\n",
              "    <tr>\n",
              "      <th>1</th>\n",
              "      <td>2020-06-09</td>\n",
              "      <td>179.826649</td>\n",
              "      <td>186.289389</td>\n",
              "      <td>178.696801</td>\n",
              "      <td>179.510300</td>\n",
              "      <td>1341970</td>\n",
              "    </tr>\n",
              "    <tr>\n",
              "      <th>2</th>\n",
              "      <td>2020-06-10</td>\n",
              "      <td>180.052627</td>\n",
              "      <td>183.668142</td>\n",
              "      <td>179.284339</td>\n",
              "      <td>180.097824</td>\n",
              "      <td>1024793</td>\n",
              "    </tr>\n",
              "    <tr>\n",
              "      <th>3</th>\n",
              "      <td>2020-06-11</td>\n",
              "      <td>180.775730</td>\n",
              "      <td>181.905578</td>\n",
              "      <td>174.990912</td>\n",
              "      <td>175.894791</td>\n",
              "      <td>855456</td>\n",
              "    </tr>\n",
              "    <tr>\n",
              "      <th>4</th>\n",
              "      <td>2020-06-12</td>\n",
              "      <td>171.375387</td>\n",
              "      <td>176.482296</td>\n",
              "      <td>169.974373</td>\n",
              "      <td>175.352448</td>\n",
              "      <td>980250</td>\n",
              "    </tr>\n",
              "  </tbody>\n",
              "</table>\n",
              "</div>"
            ],
            "text/plain": [
              "        Date        Open        High         Low       Close   Volume\n",
              "0 2020-06-08  182.945035  184.074883  178.199672  178.742004   744734\n",
              "1 2020-06-09  179.826649  186.289389  178.696801  179.510300  1341970\n",
              "2 2020-06-10  180.052627  183.668142  179.284339  180.097824  1024793\n",
              "3 2020-06-11  180.775730  181.905578  174.990912  175.894791   855456\n",
              "4 2020-06-12  171.375387  176.482296  169.974373  175.352448   980250"
            ]
          },
          "metadata": {
            "tags": []
          },
          "execution_count": 4
        }
      ]
    },
    {
      "cell_type": "code",
      "metadata": {
        "colab": {
          "base_uri": "https://localhost:8080/",
          "height": 250
        },
        "id": "t94Df_dHYlt2",
        "outputId": "8bcb6272-cdae-4f53-809d-49352e6bd8b3"
      },
      "source": [
        "#Creating a dataset with only Closing Price column and Date as index\n",
        "\n",
        "data = df.sort_index(ascending=True,axis=0)\n",
        "df1 = pd.DataFrame(index=range(0,len(df)),columns=['Date','Close'])\n",
        "for i in range(0,len(data)):\n",
        "    df1[\"Date\"][i]=data['Date'][i]\n",
        "    df1[\"Close\"][i]=data[\"Close\"][i]\n",
        "\n",
        "df1.index=df1.Date\n",
        "df1.drop(\"Date\",axis=1,inplace=True)\n",
        "print(df1.shape)\n",
        "df1.head()"
      ],
      "execution_count": 5,
      "outputs": [
        {
          "output_type": "stream",
          "text": [
            "(250, 1)\n"
          ],
          "name": "stdout"
        },
        {
          "output_type": "execute_result",
          "data": {
            "text/html": [
              "<div>\n",
              "<style scoped>\n",
              "    .dataframe tbody tr th:only-of-type {\n",
              "        vertical-align: middle;\n",
              "    }\n",
              "\n",
              "    .dataframe tbody tr th {\n",
              "        vertical-align: top;\n",
              "    }\n",
              "\n",
              "    .dataframe thead th {\n",
              "        text-align: right;\n",
              "    }\n",
              "</style>\n",
              "<table border=\"1\" class=\"dataframe\">\n",
              "  <thead>\n",
              "    <tr style=\"text-align: right;\">\n",
              "      <th></th>\n",
              "      <th>Close</th>\n",
              "    </tr>\n",
              "    <tr>\n",
              "      <th>Date</th>\n",
              "      <th></th>\n",
              "    </tr>\n",
              "  </thead>\n",
              "  <tbody>\n",
              "    <tr>\n",
              "      <th>2020-06-08</th>\n",
              "      <td>178.742</td>\n",
              "    </tr>\n",
              "    <tr>\n",
              "      <th>2020-06-09</th>\n",
              "      <td>179.51</td>\n",
              "    </tr>\n",
              "    <tr>\n",
              "      <th>2020-06-10</th>\n",
              "      <td>180.098</td>\n",
              "    </tr>\n",
              "    <tr>\n",
              "      <th>2020-06-11</th>\n",
              "      <td>175.895</td>\n",
              "    </tr>\n",
              "    <tr>\n",
              "      <th>2020-06-12</th>\n",
              "      <td>175.352</td>\n",
              "    </tr>\n",
              "  </tbody>\n",
              "</table>\n",
              "</div>"
            ],
            "text/plain": [
              "              Close\n",
              "Date               \n",
              "2020-06-08  178.742\n",
              "2020-06-09   179.51\n",
              "2020-06-10  180.098\n",
              "2020-06-11  175.895\n",
              "2020-06-12  175.352"
            ]
          },
          "metadata": {
            "tags": []
          },
          "execution_count": 5
        }
      ]
    },
    {
      "cell_type": "code",
      "metadata": {
        "id": "_s4ZA0ExYnFr"
      },
      "source": [
        "#Defining Function\n",
        "\n",
        "def MACD(data, slow, fast, smooth):\n",
        "\n",
        "    exp1 = data['Close'].ewm(span = fast, adjust = False).mean()\n",
        "    exp2 = data['Close'].ewm(span = slow, adjust = False).mean()\n",
        "    macd = pd.DataFrame(exp1-exp2)\n",
        "\n",
        "    signal = pd.DataFrame(macd.ewm(span = smooth, adjust = False).mean())\n",
        "\n",
        "    data['MACD'] = macd.values\n",
        "    data['Signal'] = signal.values\n",
        "\n",
        "    return data"
      ],
      "execution_count": 6,
      "outputs": []
    },
    {
      "cell_type": "code",
      "metadata": {
        "colab": {
          "base_uri": "https://localhost:8080/",
          "height": 234
        },
        "id": "yklbs0ISYpq6",
        "outputId": "69e5d1a7-06a8-41e7-851f-9582f33f9fee"
      },
      "source": [
        "#Implementing the Function\n",
        "\n",
        "MACD(df1, 26, 12, 9)\n",
        "df1.tail()"
      ],
      "execution_count": 7,
      "outputs": [
        {
          "output_type": "execute_result",
          "data": {
            "text/html": [
              "<div>\n",
              "<style scoped>\n",
              "    .dataframe tbody tr th:only-of-type {\n",
              "        vertical-align: middle;\n",
              "    }\n",
              "\n",
              "    .dataframe tbody tr th {\n",
              "        vertical-align: top;\n",
              "    }\n",
              "\n",
              "    .dataframe thead th {\n",
              "        text-align: right;\n",
              "    }\n",
              "</style>\n",
              "<table border=\"1\" class=\"dataframe\">\n",
              "  <thead>\n",
              "    <tr style=\"text-align: right;\">\n",
              "      <th></th>\n",
              "      <th>Close</th>\n",
              "      <th>MACD</th>\n",
              "      <th>Signal</th>\n",
              "    </tr>\n",
              "    <tr>\n",
              "      <th>Date</th>\n",
              "      <th></th>\n",
              "      <th></th>\n",
              "      <th></th>\n",
              "    </tr>\n",
              "  </thead>\n",
              "  <tbody>\n",
              "    <tr>\n",
              "      <th>2021-06-01</th>\n",
              "      <td>209.374</td>\n",
              "      <td>1.770135</td>\n",
              "      <td>0.817326</td>\n",
              "    </tr>\n",
              "    <tr>\n",
              "      <th>2021-06-02</th>\n",
              "      <td>203.342</td>\n",
              "      <td>1.447876</td>\n",
              "      <td>0.943436</td>\n",
              "    </tr>\n",
              "    <tr>\n",
              "      <th>2021-06-03</th>\n",
              "      <td>203.439</td>\n",
              "      <td>1.186655</td>\n",
              "      <td>0.992080</td>\n",
              "    </tr>\n",
              "    <tr>\n",
              "      <th>2021-06-04</th>\n",
              "      <td>203.147</td>\n",
              "      <td>0.945187</td>\n",
              "      <td>0.982701</td>\n",
              "    </tr>\n",
              "    <tr>\n",
              "      <th>2021-06-07</th>\n",
              "      <td>205.726</td>\n",
              "      <td>0.950905</td>\n",
              "      <td>0.976342</td>\n",
              "    </tr>\n",
              "  </tbody>\n",
              "</table>\n",
              "</div>"
            ],
            "text/plain": [
              "              Close      MACD    Signal\n",
              "Date                                   \n",
              "2021-06-01  209.374  1.770135  0.817326\n",
              "2021-06-02  203.342  1.447876  0.943436\n",
              "2021-06-03  203.439  1.186655  0.992080\n",
              "2021-06-04  203.147  0.945187  0.982701\n",
              "2021-06-07  205.726  0.950905  0.976342"
            ]
          },
          "metadata": {
            "tags": []
          },
          "execution_count": 7
        }
      ]
    },
    {
      "cell_type": "code",
      "metadata": {
        "colab": {
          "base_uri": "https://localhost:8080/",
          "height": 513
        },
        "id": "loWcuRipYq4I",
        "outputId": "36f8a824-9262-4304-8c75-0b7531314d3a"
      },
      "source": [
        "#Plotting \n",
        "\n",
        "#Setting labels\n",
        "plt.figure(figsize=(17,8))\n",
        "plt.xlabel(\"Year\")\n",
        "\n",
        "plt.ylabel(\"Crossover\")\n",
        "plt.title(\"MACD INDICATOR\")\n",
        "\n",
        "#Let's go\n",
        "plt.plot(df1[['MACD', 'Signal']])\n",
        "plt.legend([\"MACD\",\"Signal Line\"], loc =\"lower right\")\n",
        "plt.show()"
      ],
      "execution_count": 8,
      "outputs": [
        {
          "output_type": "display_data",
          "data": {
            "image/png": "[encoded data removed]",
            "text/plain": [
              "<Figure size 1224x576 with 1 Axes>"
            ]
          },
          "metadata": {
            "tags": [],
            "needs_background": "light"
          }
        }
      ]
    }
  ]
}