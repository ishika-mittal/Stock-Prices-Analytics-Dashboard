{
  "nbformat": 4,
  "nbformat_minor": 0,
  "metadata": {
    "colab": {
      "name": "Stock Price Prediction using LSTM Network - Section A.ipynb",
      "provenance": [],
      "authorship_tag": "ABX9TyPbwJA8Dlkm+5ftgTi6RJ84",
      "include_colab_link": true
    },
    "kernelspec": {
      "name": "python3",
      "display_name": "Python 3"
    },
    "language_info": {
      "name": "python"
    }
  },
  "cells": [
    {
      "cell_type": "markdown",
      "metadata": {
        "id": "view-in-github",
        "colab_type": "text"
      },
      "source": [
        "<a href=\"https://colab.research.google.com/github/ishika-mittal/Stock-Prices-Analytics-Dashboard/blob/main/Stock_Price_Prediction_using_LSTM_Network_Section_A.ipynb\" target=\"_parent\"><img src=\"https://colab.research.google.com/assets/colab-badge.svg\" alt=\"Open In Colab\"/></a>"
      ]
    },
    {
      "cell_type": "markdown",
      "metadata": {
        "id": "NUPgGSYPQHNo"
      },
      "source": [
        "## **Part 1: Data Collection**"
      ]
    },
    {
      "cell_type": "code",
      "metadata": {
        "id": "De9V9aRBP1js"
      },
      "source": [
        "#Importing Libraries\n",
        "import numpy as np\n",
        "import pandas as pd\n",
        "from pandas_datareader import data\n",
        "import matplotlib.pyplot as plt\n",
        "from datetime import datetime\n",
        "from datetime import timedelta\n",
        "import warnings\n",
        "warnings.filterwarnings('ignore')"
      ],
      "execution_count": 1,
      "outputs": []
    },
    {
      "cell_type": "code",
      "metadata": {
        "colab": {
          "base_uri": "https://localhost:8080/"
        },
        "id": "BVdwNaSLP9ml",
        "outputId": "b35a9c1c-4abb-43b6-b719-b291b3d8e80e"
      },
      "source": [
        "#Installing yfinance library for fetching historical stock data\n",
        "!pip install yfinance\n",
        "import yfinance as yf"
      ],
      "execution_count": 2,
      "outputs": [
        {
          "output_type": "stream",
          "text": [
            "Collecting yfinance\n",
            "  Downloading https://files.pythonhosted.org/packages/a7/ee/315752b9ef281ba83c62aa7ec2e2074f85223da6e7e74efb4d3e11c0f510/yfinance-0.1.59.tar.gz\n",
            "Requirement already satisfied: pandas>=0.24 in /usr/local/lib/python3.7/dist-packages (from yfinance) (1.1.5)\n",
            "Requirement already satisfied: numpy>=1.15 in /usr/local/lib/python3.7/dist-packages (from yfinance) (1.19.5)\n",
            "Requirement already satisfied: requests>=2.20 in /usr/local/lib/python3.7/dist-packages (from yfinance) (2.23.0)\n",
            "Requirement already satisfied: multitasking>=0.0.7 in /usr/local/lib/python3.7/dist-packages (from yfinance) (0.0.9)\n",
            "Collecting lxml>=4.5.1\n",
            "\u001b[?25l  Downloading https://files.pythonhosted.org/packages/30/c0/d0526314971fc661b083ab135747dc68446a3022686da8c16d25fcf6ef07/lxml-4.6.3-cp37-cp37m-manylinux2014_x86_64.whl (6.3MB)\n",
            "\u001b[K     |████████████████████████████████| 6.3MB 7.2MB/s \n",
            "\u001b[?25hRequirement already satisfied: python-dateutil>=2.7.3 in /usr/local/lib/python3.7/dist-packages (from pandas>=0.24->yfinance) (2.8.1)\n",
            "Requirement already satisfied: pytz>=2017.2 in /usr/local/lib/python3.7/dist-packages (from pandas>=0.24->yfinance) (2018.9)\n",
            "Requirement already satisfied: chardet<4,>=3.0.2 in /usr/local/lib/python3.7/dist-packages (from requests>=2.20->yfinance) (3.0.4)\n",
            "Requirement already satisfied: certifi>=2017.4.17 in /usr/local/lib/python3.7/dist-packages (from requests>=2.20->yfinance) (2020.12.5)\n",
            "Requirement already satisfied: urllib3!=1.25.0,!=1.25.1,<1.26,>=1.21.1 in /usr/local/lib/python3.7/dist-packages (from requests>=2.20->yfinance) (1.24.3)\n",
            "Requirement already satisfied: idna<3,>=2.5 in /usr/local/lib/python3.7/dist-packages (from requests>=2.20->yfinance) (2.10)\n",
            "Requirement already satisfied: six>=1.5 in /usr/local/lib/python3.7/dist-packages (from python-dateutil>=2.7.3->pandas>=0.24->yfinance) (1.15.0)\n",
            "Building wheels for collected packages: yfinance\n",
            "  Building wheel for yfinance (setup.py) ... \u001b[?25l\u001b[?25hdone\n",
            "  Created wheel for yfinance: filename=yfinance-0.1.59-py2.py3-none-any.whl size=23455 sha256=30ee1bbf89bb2fd458b8fe186a09c1df359087e0bdf2cbe183d5e27e6fa3397a\n",
            "  Stored in directory: /root/.cache/pip/wheels/f8/2a/0f/4b5a86e1d52e451757eb6bc17fd899629f0925c777741b6d04\n",
            "Successfully built yfinance\n",
            "Installing collected packages: lxml, yfinance\n",
            "  Found existing installation: lxml 4.2.6\n",
            "    Uninstalling lxml-4.2.6:\n",
            "      Successfully uninstalled lxml-4.2.6\n",
            "Successfully installed lxml-4.6.3 yfinance-0.1.59\n"
          ],
          "name": "stdout"
        }
      ]
    },
    {
      "cell_type": "code",
      "metadata": {
        "id": "f7zYWk1eP_GM"
      },
      "source": [
        "#Function to get the stock data\n",
        "def stock_data(stock, start_date, end_date):\n",
        "\n",
        "    tickerSymbol = stock\n",
        "\n",
        "    #get data on this ticker\n",
        "    tickerData = yf.Ticker(tickerSymbol)\n",
        "\n",
        "    #get the historical prices for this ticker\n",
        "    tickerDf = tickerData.history(period='1d', start=start_date, end=end_date)\n",
        "\n",
        "    return tickerDf"
      ],
      "execution_count": 3,
      "outputs": []
    },
    {
      "cell_type": "code",
      "metadata": {
        "colab": {
          "base_uri": "https://localhost:8080/",
          "height": 234
        },
        "id": "CNPud9LEQA29",
        "outputId": "754ebcb5-fcd0-47b1-c006-a721a5e20e14"
      },
      "source": [
        "#Fetching data\n",
        "\n",
        "df = stock_data(\"ITC.BO\", \"2011-06-08\", \"2021-06-08\")\n",
        "df.head()"
      ],
      "execution_count": 4,
      "outputs": [
        {
          "output_type": "execute_result",
          "data": {
            "text/html": [
              "<div>\n",
              "<style scoped>\n",
              "    .dataframe tbody tr th:only-of-type {\n",
              "        vertical-align: middle;\n",
              "    }\n",
              "\n",
              "    .dataframe tbody tr th {\n",
              "        vertical-align: top;\n",
              "    }\n",
              "\n",
              "    .dataframe thead th {\n",
              "        text-align: right;\n",
              "    }\n",
              "</style>\n",
              "<table border=\"1\" class=\"dataframe\">\n",
              "  <thead>\n",
              "    <tr style=\"text-align: right;\">\n",
              "      <th></th>\n",
              "      <th>Open</th>\n",
              "      <th>High</th>\n",
              "      <th>Low</th>\n",
              "      <th>Close</th>\n",
              "      <th>Volume</th>\n",
              "      <th>Dividends</th>\n",
              "      <th>Stock Splits</th>\n",
              "    </tr>\n",
              "    <tr>\n",
              "      <th>Date</th>\n",
              "      <th></th>\n",
              "      <th></th>\n",
              "      <th></th>\n",
              "      <th></th>\n",
              "      <th></th>\n",
              "      <th></th>\n",
              "      <th></th>\n",
              "    </tr>\n",
              "  </thead>\n",
              "  <tbody>\n",
              "    <tr>\n",
              "      <th>2011-06-08</th>\n",
              "      <td>101.296763</td>\n",
              "      <td>102.791816</td>\n",
              "      <td>101.244306</td>\n",
              "      <td>102.136093</td>\n",
              "      <td>570295</td>\n",
              "      <td>0.0</td>\n",
              "      <td>0.0</td>\n",
              "    </tr>\n",
              "    <tr>\n",
              "      <th>2011-06-09</th>\n",
              "      <td>102.188547</td>\n",
              "      <td>102.686898</td>\n",
              "      <td>101.375440</td>\n",
              "      <td>102.267227</td>\n",
              "      <td>429328</td>\n",
              "      <td>0.0</td>\n",
              "      <td>0.0</td>\n",
              "    </tr>\n",
              "    <tr>\n",
              "      <th>2011-06-10</th>\n",
              "      <td>101.420746</td>\n",
              "      <td>102.267240</td>\n",
              "      <td>100.785872</td>\n",
              "      <td>101.394287</td>\n",
              "      <td>687543</td>\n",
              "      <td>1.1</td>\n",
              "      <td>0.0</td>\n",
              "    </tr>\n",
              "    <tr>\n",
              "      <th>2011-06-13</th>\n",
              "      <td>101.314928</td>\n",
              "      <td>101.711729</td>\n",
              "      <td>100.653608</td>\n",
              "      <td>100.971039</td>\n",
              "      <td>669849</td>\n",
              "      <td>0.0</td>\n",
              "      <td>0.0</td>\n",
              "    </tr>\n",
              "    <tr>\n",
              "      <th>2011-06-14</th>\n",
              "      <td>101.050409</td>\n",
              "      <td>102.796310</td>\n",
              "      <td>101.050409</td>\n",
              "      <td>102.505325</td>\n",
              "      <td>513403</td>\n",
              "      <td>0.0</td>\n",
              "      <td>0.0</td>\n",
              "    </tr>\n",
              "  </tbody>\n",
              "</table>\n",
              "</div>"
            ],
            "text/plain": [
              "                  Open        High         Low  ...  Volume  Dividends  Stock Splits\n",
              "Date                                            ...                                 \n",
              "2011-06-08  101.296763  102.791816  101.244306  ...  570295        0.0           0.0\n",
              "2011-06-09  102.188547  102.686898  101.375440  ...  429328        0.0           0.0\n",
              "2011-06-10  101.420746  102.267240  100.785872  ...  687543        1.1           0.0\n",
              "2011-06-13  101.314928  101.711729  100.653608  ...  669849        0.0           0.0\n",
              "2011-06-14  101.050409  102.796310  101.050409  ...  513403        0.0           0.0\n",
              "\n",
              "[5 rows x 7 columns]"
            ]
          },
          "metadata": {
            "tags": []
          },
          "execution_count": 4
        }
      ]
    },
    {
      "cell_type": "markdown",
      "metadata": {
        "id": "pmJgPXKQQKX4"
      },
      "source": [
        "## **Exploratory Data Analysis**"
      ]
    },
    {
      "cell_type": "code",
      "metadata": {
        "colab": {
          "base_uri": "https://localhost:8080/",
          "height": 514
        },
        "id": "JqEsYyQDQCp1",
        "outputId": "3a820973-c70e-4eb4-e5d1-c98aefd9c8f3"
      },
      "source": [
        "#plotting fetched data\n",
        "fig = plt.figure(figsize=(16,8))\n",
        "plt.xlabel(\"Year\")\n",
        "plt.ylabel(\"Closing Price in INR\")\n",
        "plt.plot(df['Close'], label='Close Price history')"
      ],
      "execution_count": 5,
      "outputs": [
        {
          "output_type": "execute_result",
          "data": {
            "text/plain": [
              "[<matplotlib.lines.Line2D at 0x7f30cd629ed0>]"
            ]
          },
          "metadata": {
            "tags": []
          },
          "execution_count": 5
        },
        {
          "output_type": "display_data",
          "data": {
            "image/png": "[encoded data removed]",
            "text/plain": [
              "<Figure size 1152x576 with 1 Axes>"
            ]
          },
          "metadata": {
            "tags": [],
            "needs_background": "light"
          }
        }
      ]
    },
    {
      "cell_type": "code",
      "metadata": {
        "colab": {
          "base_uri": "https://localhost:8080/"
        },
        "id": "ubngB2KdQfse",
        "outputId": "b636ad9a-a034-493b-d434-fe8117ac758b"
      },
      "source": [
        "#Checking the data types\n",
        "df.dtypes"
      ],
      "execution_count": 6,
      "outputs": [
        {
          "output_type": "execute_result",
          "data": {
            "text/plain": [
              "Open            float64\n",
              "High            float64\n",
              "Low             float64\n",
              "Close           float64\n",
              "Volume            int64\n",
              "Dividends       float64\n",
              "Stock Splits    float64\n",
              "dtype: object"
            ]
          },
          "metadata": {
            "tags": []
          },
          "execution_count": 6
        }
      ]
    },
    {
      "cell_type": "code",
      "metadata": {
        "colab": {
          "base_uri": "https://localhost:8080/",
          "height": 295
        },
        "id": "qi2_kDcBQich",
        "outputId": "2e5e85a1-32b6-48e8-d406-83b4c0ab140b"
      },
      "source": [
        "#Checking for data consistency, missing values, measures of central tendency, dispersion\n",
        "df.describe()"
      ],
      "execution_count": 7,
      "outputs": [
        {
          "output_type": "execute_result",
          "data": {
            "text/html": [
              "<div>\n",
              "<style scoped>\n",
              "    .dataframe tbody tr th:only-of-type {\n",
              "        vertical-align: middle;\n",
              "    }\n",
              "\n",
              "    .dataframe tbody tr th {\n",
              "        vertical-align: top;\n",
              "    }\n",
              "\n",
              "    .dataframe thead th {\n",
              "        text-align: right;\n",
              "    }\n",
              "</style>\n",
              "<table border=\"1\" class=\"dataframe\">\n",
              "  <thead>\n",
              "    <tr style=\"text-align: right;\">\n",
              "      <th></th>\n",
              "      <th>Open</th>\n",
              "      <th>High</th>\n",
              "      <th>Low</th>\n",
              "      <th>Close</th>\n",
              "      <th>Volume</th>\n",
              "      <th>Dividends</th>\n",
              "      <th>Stock Splits</th>\n",
              "    </tr>\n",
              "  </thead>\n",
              "  <tbody>\n",
              "    <tr>\n",
              "      <th>count</th>\n",
              "      <td>2459.000000</td>\n",
              "      <td>2459.000000</td>\n",
              "      <td>2459.000000</td>\n",
              "      <td>2459.000000</td>\n",
              "      <td>2.459000e+03</td>\n",
              "      <td>2459.000000</td>\n",
              "      <td>2459.000000</td>\n",
              "    </tr>\n",
              "    <tr>\n",
              "      <th>mean</th>\n",
              "      <td>194.164962</td>\n",
              "      <td>196.018209</td>\n",
              "      <td>191.801647</td>\n",
              "      <td>193.811047</td>\n",
              "      <td>8.897098e+05</td>\n",
              "      <td>0.019479</td>\n",
              "      <td>0.000610</td>\n",
              "    </tr>\n",
              "    <tr>\n",
              "      <th>std</th>\n",
              "      <td>42.643026</td>\n",
              "      <td>42.862788</td>\n",
              "      <td>42.253953</td>\n",
              "      <td>42.430514</td>\n",
              "      <td>9.861227e+05</td>\n",
              "      <td>0.329482</td>\n",
              "      <td>0.030249</td>\n",
              "    </tr>\n",
              "    <tr>\n",
              "      <th>min</th>\n",
              "      <td>97.876044</td>\n",
              "      <td>98.828344</td>\n",
              "      <td>96.447576</td>\n",
              "      <td>97.902496</td>\n",
              "      <td>0.000000e+00</td>\n",
              "      <td>0.000000</td>\n",
              "      <td>0.000000</td>\n",
              "    </tr>\n",
              "    <tr>\n",
              "      <th>25%</th>\n",
              "      <td>173.095039</td>\n",
              "      <td>174.531831</td>\n",
              "      <td>170.534772</td>\n",
              "      <td>172.617638</td>\n",
              "      <td>3.931850e+05</td>\n",
              "      <td>0.000000</td>\n",
              "      <td>0.000000</td>\n",
              "    </tr>\n",
              "    <tr>\n",
              "      <th>50%</th>\n",
              "      <td>193.823091</td>\n",
              "      <td>195.793749</td>\n",
              "      <td>191.170334</td>\n",
              "      <td>193.276474</td>\n",
              "      <td>5.872400e+05</td>\n",
              "      <td>0.000000</td>\n",
              "      <td>0.000000</td>\n",
              "    </tr>\n",
              "    <tr>\n",
              "      <th>75%</th>\n",
              "      <td>226.322617</td>\n",
              "      <td>228.240783</td>\n",
              "      <td>224.172425</td>\n",
              "      <td>225.665733</td>\n",
              "      <td>1.022740e+06</td>\n",
              "      <td>0.000000</td>\n",
              "      <td>0.000000</td>\n",
              "    </tr>\n",
              "    <tr>\n",
              "      <th>max</th>\n",
              "      <td>300.448458</td>\n",
              "      <td>307.366833</td>\n",
              "      <td>296.140787</td>\n",
              "      <td>297.881256</td>\n",
              "      <td>1.312159e+07</td>\n",
              "      <td>10.150000</td>\n",
              "      <td>1.500000</td>\n",
              "    </tr>\n",
              "  </tbody>\n",
              "</table>\n",
              "</div>"
            ],
            "text/plain": [
              "              Open         High  ...    Dividends  Stock Splits\n",
              "count  2459.000000  2459.000000  ...  2459.000000   2459.000000\n",
              "mean    194.164962   196.018209  ...     0.019479      0.000610\n",
              "std      42.643026    42.862788  ...     0.329482      0.030249\n",
              "min      97.876044    98.828344  ...     0.000000      0.000000\n",
              "25%     173.095039   174.531831  ...     0.000000      0.000000\n",
              "50%     193.823091   195.793749  ...     0.000000      0.000000\n",
              "75%     226.322617   228.240783  ...     0.000000      0.000000\n",
              "max     300.448458   307.366833  ...    10.150000      1.500000\n",
              "\n",
              "[8 rows x 7 columns]"
            ]
          },
          "metadata": {
            "tags": []
          },
          "execution_count": 7
        }
      ]
    },
    {
      "cell_type": "markdown",
      "metadata": {
        "id": "sPZrJUIZQlYU"
      },
      "source": [
        "## **Part 3: Data Preprocessing**"
      ]
    },
    {
      "cell_type": "code",
      "metadata": {
        "id": "wsU-wzqnQkEl"
      },
      "source": [
        "#Resetting index to make date a column\n",
        "df.reset_index(level=\"Date\", inplace=True)"
      ],
      "execution_count": 8,
      "outputs": []
    },
    {
      "cell_type": "code",
      "metadata": {
        "id": "5XfnPhlnQu99"
      },
      "source": [
        "#Dropping columns which are not required\n",
        "df.drop(columns = ['Dividends', 'Stock Splits'], inplace=True)"
      ],
      "execution_count": 9,
      "outputs": []
    },
    {
      "cell_type": "code",
      "metadata": {
        "colab": {
          "base_uri": "https://localhost:8080/",
          "height": 234
        },
        "id": "Ui0yYKoFQw-5",
        "outputId": "16f01782-79d5-422e-add9-cbea41400269"
      },
      "source": [
        "#Creating a dataset with only Closing Price column and Date as index\n",
        "\n",
        "data = df.sort_index(ascending=True,axis=0)\n",
        "df1 = pd.DataFrame(index=range(0,len(df)),columns=['Date','Close'])\n",
        "for i in range(0,len(data)):\n",
        "    df1[\"Date\"][i]=data['Date'][i]\n",
        "    df1[\"Close\"][i]=data[\"Close\"][i]\n",
        "\n",
        "df1.index=df1.Date\n",
        "df1.drop(\"Date\",axis=1,inplace=True)\n",
        "df1.head()"
      ],
      "execution_count": 10,
      "outputs": [
        {
          "output_type": "execute_result",
          "data": {
            "text/html": [
              "<div>\n",
              "<style scoped>\n",
              "    .dataframe tbody tr th:only-of-type {\n",
              "        vertical-align: middle;\n",
              "    }\n",
              "\n",
              "    .dataframe tbody tr th {\n",
              "        vertical-align: top;\n",
              "    }\n",
              "\n",
              "    .dataframe thead th {\n",
              "        text-align: right;\n",
              "    }\n",
              "</style>\n",
              "<table border=\"1\" class=\"dataframe\">\n",
              "  <thead>\n",
              "    <tr style=\"text-align: right;\">\n",
              "      <th></th>\n",
              "      <th>Close</th>\n",
              "    </tr>\n",
              "    <tr>\n",
              "      <th>Date</th>\n",
              "      <th></th>\n",
              "    </tr>\n",
              "  </thead>\n",
              "  <tbody>\n",
              "    <tr>\n",
              "      <th>2011-06-08</th>\n",
              "      <td>102.136</td>\n",
              "    </tr>\n",
              "    <tr>\n",
              "      <th>2011-06-09</th>\n",
              "      <td>102.267</td>\n",
              "    </tr>\n",
              "    <tr>\n",
              "      <th>2011-06-10</th>\n",
              "      <td>101.394</td>\n",
              "    </tr>\n",
              "    <tr>\n",
              "      <th>2011-06-13</th>\n",
              "      <td>100.971</td>\n",
              "    </tr>\n",
              "    <tr>\n",
              "      <th>2011-06-14</th>\n",
              "      <td>102.505</td>\n",
              "    </tr>\n",
              "  </tbody>\n",
              "</table>\n",
              "</div>"
            ],
            "text/plain": [
              "              Close\n",
              "Date               \n",
              "2011-06-08  102.136\n",
              "2011-06-09  102.267\n",
              "2011-06-10  101.394\n",
              "2011-06-13  100.971\n",
              "2011-06-14  102.505"
            ]
          },
          "metadata": {
            "tags": []
          },
          "execution_count": 10
        }
      ]
    },
    {
      "cell_type": "code",
      "metadata": {
        "colab": {
          "base_uri": "https://localhost:8080/"
        },
        "id": "KBw4uJBsQyPt",
        "outputId": "4fc77f9d-8541-4d3f-926b-903eae380954"
      },
      "source": [
        "#Splitting data into train and test, using manual spliting as time series data is ordered\n",
        "data = df1.values\n",
        "train = data[0:1750,:]\n",
        "test = data[1750:,:]\n",
        "\n",
        "print(train.shape)\n",
        "print(test.shape)"
      ],
      "execution_count": 11,
      "outputs": [
        {
          "output_type": "stream",
          "text": [
            "(1750, 1)\n",
            "(709, 1)\n"
          ],
          "name": "stdout"
        }
      ]
    },
    {
      "cell_type": "code",
      "metadata": {
        "id": "Q3es4nm6QzxO"
      },
      "source": [
        "#LSTM is very sensitive to variance and scale of data, hence normalizing it in the range of 0-1\n",
        "from sklearn.preprocessing import MinMaxScaler\n",
        "\n",
        "scaler = MinMaxScaler(feature_range=(0,1))\n",
        "scaled_data = scaler.fit_transform(data)"
      ],
      "execution_count": 12,
      "outputs": []
    },
    {
      "cell_type": "code",
      "metadata": {
        "id": "i0uQBaJkQ1uE"
      },
      "source": [
        "#Preparing train data\n",
        "\n",
        "x_train,y_train=[],[]\n",
        "\n",
        "#Setting up a time window, the model will be using past window (in this case 60 days) of data to predict the next closing price\n",
        "window = 60\n",
        "\n",
        "for i in range(window,len(train)):\n",
        "    x_train.append(scaled_data[i-window:i,0])\n",
        "    y_train.append(scaled_data[i,0])\n",
        "\n",
        "#Converting dataframe to numpy array input  \n",
        "x_train,y_train = np.array(x_train),np.array(y_train)\n",
        "# reshaping input to be [samples, time steps, features] which is required for LSTM\n",
        "x_train = np.reshape(x_train,(x_train.shape[0],x_train.shape[1],1))"
      ],
      "execution_count": 13,
      "outputs": []
    },
    {
      "cell_type": "code",
      "metadata": {
        "id": "BWtOcafhQ3AN"
      },
      "source": [
        "#Preparing test data\n",
        "inputs = df1[len(df1) - len(test) - window:].values\n",
        "inputs = inputs.reshape(-1,1)\n",
        "inputs  = scaler.transform(inputs)\n",
        "\n",
        "x_test = []\n",
        "for i in range(window,inputs.shape[0]):\n",
        "    x_test.append(inputs[i-window:i,0])\n",
        "\n",
        "#Converting dataframe to numpy array input\n",
        "x_test = np.array(x_test)\n",
        "#Reshaping input to be [samples, time steps, features] which is required for LSTM\n",
        "x_test = np.reshape(x_test, (x_test.shape[0],x_test.shape[1],1))"
      ],
      "execution_count": 14,
      "outputs": []
    },
    {
      "cell_type": "code",
      "metadata": {
        "colab": {
          "base_uri": "https://localhost:8080/"
        },
        "id": "zJLbX8mAQ4pV",
        "outputId": "b15afd4c-7c74-4b71-d893-2e018196dcc8"
      },
      "source": [
        "#Checking the input data\n",
        "print(x_train[0][0])\n",
        "print(y_train[0])"
      ],
      "execution_count": 15,
      "outputs": [
        {
          "output_type": "stream",
          "text": [
            "[0.02117023]\n",
            "0.04695898948008387\n"
          ],
          "name": "stdout"
        }
      ]
    },
    {
      "cell_type": "markdown",
      "metadata": {
        "id": "aYGcr1GxQ6hv"
      },
      "source": [
        "## **Building the Model**"
      ]
    },
    {
      "cell_type": "code",
      "metadata": {
        "id": "aLhDthhNRAU1"
      },
      "source": [
        "#importing libraries\n",
        "from keras.models import Sequential\n",
        "from keras.layers import Dense, Dropout, LSTM"
      ],
      "execution_count": 16,
      "outputs": []
    },
    {
      "cell_type": "code",
      "metadata": {
        "id": "nIHbMar5RCTY"
      },
      "source": [
        "#Creating the LSTM Network\n",
        "\n",
        "model = Sequential()\n",
        "model.add(LSTM(units=50, return_sequences=True, input_shape=(x_train.shape[1],1)))\n",
        "model.add(LSTM(units=50))\n",
        "model.add(Dense(1))\n",
        "\n",
        "model.compile(loss='mean_squared_error', optimizer='adam')"
      ],
      "execution_count": 17,
      "outputs": []
    },
    {
      "cell_type": "code",
      "metadata": {
        "colab": {
          "base_uri": "https://localhost:8080/"
        },
        "id": "Yz7_2IA4RDfU",
        "outputId": "4ba47d05-5dd8-47c8-b479-5d132a0ebf3d"
      },
      "source": [
        "#Model Summary\n",
        "model.summary()"
      ],
      "execution_count": 18,
      "outputs": [
        {
          "output_type": "stream",
          "text": [
            "Model: \"sequential\"\n",
            "_________________________________________________________________\n",
            "Layer (type)                 Output Shape              Param #   \n",
            "=================================================================\n",
            "lstm (LSTM)                  (None, 60, 50)            10400     \n",
            "_________________________________________________________________\n",
            "lstm_1 (LSTM)                (None, 50)                20200     \n",
            "_________________________________________________________________\n",
            "dense (Dense)                (None, 1)                 51        \n",
            "=================================================================\n",
            "Total params: 30,651\n",
            "Trainable params: 30,651\n",
            "Non-trainable params: 0\n",
            "_________________________________________________________________\n"
          ],
          "name": "stdout"
        }
      ]
    },
    {
      "cell_type": "code",
      "metadata": {
        "colab": {
          "base_uri": "https://localhost:8080/"
        },
        "id": "TBt7RR1AREyY",
        "outputId": "b1b9492b-6852-4579-8bd9-243e2613712c"
      },
      "source": [
        "#Fitting the model\n",
        "model.fit(x_train, y_train, epochs=1, batch_size=64, verbose=2)"
      ],
      "execution_count": 19,
      "outputs": [
        {
          "output_type": "stream",
          "text": [
            "27/27 - 20s - loss: 0.0212\n"
          ],
          "name": "stdout"
        },
        {
          "output_type": "execute_result",
          "data": {
            "text/plain": [
              "<keras.callbacks.History at 0x7f307c65d090>"
            ]
          },
          "metadata": {
            "tags": []
          },
          "execution_count": 19
        }
      ]
    },
    {
      "cell_type": "code",
      "metadata": {
        "id": "teHizNskRE7j"
      },
      "source": [
        "#Prediction\n",
        "closing_price = model.predict(x_test)\n",
        "train_predict = model.predict(x_train)\n",
        "\n",
        "##Transformback to original form\n",
        "closing_price = scaler.inverse_transform(closing_price)\n",
        "train_predict = scaler.inverse_transform(train_predict)"
      ],
      "execution_count": 20,
      "outputs": []
    },
    {
      "cell_type": "code",
      "metadata": {
        "colab": {
          "base_uri": "https://localhost:8080/"
        },
        "id": "a4LOHKAVRRxO",
        "outputId": "5f468355-11ef-4f9d-bad1-d60d436ad319"
      },
      "source": [
        "#Performance Metric on Test Data\n",
        "import math\n",
        "from sklearn.metrics import mean_squared_error\n",
        "\n",
        "mse = math.sqrt(mean_squared_error(test,closing_price))\n",
        "mse"
      ],
      "execution_count": 21,
      "outputs": [
        {
          "output_type": "execute_result",
          "data": {
            "text/plain": [
              "10.47432927266533"
            ]
          },
          "metadata": {
            "tags": []
          },
          "execution_count": 21
        }
      ]
    },
    {
      "cell_type": "code",
      "metadata": {
        "colab": {
          "base_uri": "https://localhost:8080/",
          "height": 513
        },
        "id": "EsQmjXQ3RTkg",
        "outputId": "0e4e3c06-79cd-4975-f41c-8d1156b109bd"
      },
      "source": [
        "#Plotting the predictions\n",
        "train = df1[:1750]\n",
        "test = df1[1750:]\n",
        "test['Predictions'] = closing_price\n",
        "\n",
        "#Setting labels\n",
        "plt.figure(figsize=(17,8))\n",
        "plt.xlabel(\"Year\")\n",
        "plt.ylabel(\"Closing Price in INR\")\n",
        "plt.title(\"CLOSING PRICE PREDICTION\")\n",
        "\n",
        "#Let's go\n",
        "plt.plot(train['Close'])\n",
        "plt.plot(test[['Close','Predictions']])\n",
        "plt.legend([\"Train Data\", \"Actual Price\", \"Predicted Price\"], loc =\"lower right\")\n",
        "plt.show()"
      ],
      "execution_count": 22,
      "outputs": [
        {
          "output_type": "display_data",
          "data": {
            "image/png": "[encoded data removed]",
            "text/plain": [
              "<Figure size 1224x576 with 1 Axes>"
            ]
          },
          "metadata": {
            "tags": [],
            "needs_background": "light"
          }
        }
      ]
    }
  ]
}