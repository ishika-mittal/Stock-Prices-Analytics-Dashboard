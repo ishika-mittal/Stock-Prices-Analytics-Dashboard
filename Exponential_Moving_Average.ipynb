{
  "nbformat": 4,
  "nbformat_minor": 0,
  "metadata": {
    "colab": {
      "name": "Exponential Moving Average.ipynb",
      "provenance": [],
      "authorship_tag": "ABX9TyPEoHJ5kLR4g4MoiYxkKqy5",
      "include_colab_link": true
    },
    "kernelspec": {
      "name": "python3",
      "display_name": "Python 3"
    },
    "language_info": {
      "name": "python"
    }
  },
  "cells": [
    {
      "cell_type": "markdown",
      "metadata": {
        "id": "view-in-github",
        "colab_type": "text"
      },
      "source": [
        "<a href=\"https://colab.research.google.com/github/ishika-mittal/Stock-Prices-Analytics-Dashboard/blob/main/Exponential_Moving_Average.ipynb\" target=\"_parent\"><img src=\"https://colab.research.google.com/assets/colab-badge.svg\" alt=\"Open In Colab\"/></a>"
      ]
    },
    {
      "cell_type": "markdown",
      "metadata": {
        "id": "MekUePD1Vsdp"
      },
      "source": [
        "### **I2: Exponential Moving Average (EMA)**\n",
        "\n",
        "EMA is similar to SMA with just one difference - it gives more weight to recent prices in an attempt to make it more responsive to new information. \n",
        "\n",
        "Details: https://www.investopedia.com/terms/m/movingaverage.asp"
      ]
    },
    {
      "cell_type": "code",
      "metadata": {
        "id": "dp21u475VOos"
      },
      "source": [
        "#Importing Libraries\n",
        "import numpy as np\n",
        "import pandas as pd\n",
        "from pandas_datareader import data\n",
        "import matplotlib.pyplot as plt\n",
        "from datetime import datetime\n",
        "from datetime import timedelta\n",
        "import warnings\n",
        "warnings.filterwarnings('ignore')"
      ],
      "execution_count": 1,
      "outputs": []
    },
    {
      "cell_type": "code",
      "metadata": {
        "colab": {
          "base_uri": "https://localhost:8080/"
        },
        "id": "ZOj3MA-WVSuo",
        "outputId": "0fbf9161-f7e9-4227-d4a6-7e77004dccd0"
      },
      "source": [
        "#Installing yfinance library for fetching historical stock data\n",
        "!pip install yfinance\n",
        "import yfinance as yf"
      ],
      "execution_count": 2,
      "outputs": [
        {
          "output_type": "stream",
          "text": [
            "Collecting yfinance\n",
            "  Downloading https://files.pythonhosted.org/packages/a7/ee/315752b9ef281ba83c62aa7ec2e2074f85223da6e7e74efb4d3e11c0f510/yfinance-0.1.59.tar.gz\n",
            "Requirement already satisfied: pandas>=0.24 in /usr/local/lib/python3.7/dist-packages (from yfinance) (1.1.5)\n",
            "Requirement already satisfied: numpy>=1.15 in /usr/local/lib/python3.7/dist-packages (from yfinance) (1.19.5)\n",
            "Requirement already satisfied: requests>=2.20 in /usr/local/lib/python3.7/dist-packages (from yfinance) (2.23.0)\n",
            "Requirement already satisfied: multitasking>=0.0.7 in /usr/local/lib/python3.7/dist-packages (from yfinance) (0.0.9)\n",
            "Collecting lxml>=4.5.1\n",
            "\u001b[?25l  Downloading https://files.pythonhosted.org/packages/30/c0/d0526314971fc661b083ab135747dc68446a3022686da8c16d25fcf6ef07/lxml-4.6.3-cp37-cp37m-manylinux2014_x86_64.whl (6.3MB)\n",
            "\u001b[K     |████████████████████████████████| 6.3MB 6.7MB/s \n",
            "\u001b[?25hRequirement already satisfied: python-dateutil>=2.7.3 in /usr/local/lib/python3.7/dist-packages (from pandas>=0.24->yfinance) (2.8.1)\n",
            "Requirement already satisfied: pytz>=2017.2 in /usr/local/lib/python3.7/dist-packages (from pandas>=0.24->yfinance) (2018.9)\n",
            "Requirement already satisfied: urllib3!=1.25.0,!=1.25.1,<1.26,>=1.21.1 in /usr/local/lib/python3.7/dist-packages (from requests>=2.20->yfinance) (1.24.3)\n",
            "Requirement already satisfied: certifi>=2017.4.17 in /usr/local/lib/python3.7/dist-packages (from requests>=2.20->yfinance) (2020.12.5)\n",
            "Requirement already satisfied: chardet<4,>=3.0.2 in /usr/local/lib/python3.7/dist-packages (from requests>=2.20->yfinance) (3.0.4)\n",
            "Requirement already satisfied: idna<3,>=2.5 in /usr/local/lib/python3.7/dist-packages (from requests>=2.20->yfinance) (2.10)\n",
            "Requirement already satisfied: six>=1.5 in /usr/local/lib/python3.7/dist-packages (from python-dateutil>=2.7.3->pandas>=0.24->yfinance) (1.15.0)\n",
            "Building wheels for collected packages: yfinance\n",
            "  Building wheel for yfinance (setup.py) ... \u001b[?25l\u001b[?25hdone\n",
            "  Created wheel for yfinance: filename=yfinance-0.1.59-py2.py3-none-any.whl size=23455 sha256=7934a9e4b718aefd43af8240dbca93aa7bfb2dae883a7be8f0cf16cb08815a68\n",
            "  Stored in directory: /root/.cache/pip/wheels/f8/2a/0f/4b5a86e1d52e451757eb6bc17fd899629f0925c777741b6d04\n",
            "Successfully built yfinance\n",
            "Installing collected packages: lxml, yfinance\n",
            "  Found existing installation: lxml 4.2.6\n",
            "    Uninstalling lxml-4.2.6:\n",
            "      Successfully uninstalled lxml-4.2.6\n",
            "Successfully installed lxml-4.6.3 yfinance-0.1.59\n"
          ],
          "name": "stdout"
        }
      ]
    },
    {
      "cell_type": "code",
      "metadata": {
        "id": "KG1wsOF_VUi3"
      },
      "source": [
        "#Function to get the stock data\n",
        "def stock_data(stock, start_date, end_date):\n",
        "\n",
        "    tickerSymbol = stock\n",
        "\n",
        "    #get data on this ticker\n",
        "    tickerData = yf.Ticker(tickerSymbol)\n",
        "\n",
        "    #get the historical prices for this ticker\n",
        "    tickerDf = tickerData.history(period='1d', start=start_date, end=end_date)\n",
        "\n",
        "    return tickerDf"
      ],
      "execution_count": 3,
      "outputs": []
    },
    {
      "cell_type": "code",
      "metadata": {
        "colab": {
          "base_uri": "https://localhost:8080/",
          "height": 220
        },
        "id": "iAwZHdFmVbh0",
        "outputId": "adc40383-01d6-4845-deed-ebaff978583d"
      },
      "source": [
        "#Fetching a 1Y dataset for better representation\n",
        "\n",
        "df = stock_data(\"ITC.BO\", \"2020-06-08\", \"2021-06-08\")\n",
        "df.reset_index(level=\"Date\", inplace=True)\n",
        "df.drop(columns = ['Dividends', 'Stock Splits'], inplace=True)\n",
        "\n",
        "print(df.shape)\n",
        "df.head()"
      ],
      "execution_count": 4,
      "outputs": [
        {
          "output_type": "stream",
          "text": [
            "(250, 6)\n"
          ],
          "name": "stdout"
        },
        {
          "output_type": "execute_result",
          "data": {
            "text/html": [
              "<div>\n",
              "<style scoped>\n",
              "    .dataframe tbody tr th:only-of-type {\n",
              "        vertical-align: middle;\n",
              "    }\n",
              "\n",
              "    .dataframe tbody tr th {\n",
              "        vertical-align: top;\n",
              "    }\n",
              "\n",
              "    .dataframe thead th {\n",
              "        text-align: right;\n",
              "    }\n",
              "</style>\n",
              "<table border=\"1\" class=\"dataframe\">\n",
              "  <thead>\n",
              "    <tr style=\"text-align: right;\">\n",
              "      <th></th>\n",
              "      <th>Date</th>\n",
              "      <th>Open</th>\n",
              "      <th>High</th>\n",
              "      <th>Low</th>\n",
              "      <th>Close</th>\n",
              "      <th>Volume</th>\n",
              "    </tr>\n",
              "  </thead>\n",
              "  <tbody>\n",
              "    <tr>\n",
              "      <th>0</th>\n",
              "      <td>2020-06-08</td>\n",
              "      <td>182.945035</td>\n",
              "      <td>184.074883</td>\n",
              "      <td>178.199672</td>\n",
              "      <td>178.742004</td>\n",
              "      <td>744734</td>\n",
              "    </tr>\n",
              "    <tr>\n",
              "      <th>1</th>\n",
              "      <td>2020-06-09</td>\n",
              "      <td>179.826649</td>\n",
              "      <td>186.289389</td>\n",
              "      <td>178.696801</td>\n",
              "      <td>179.510300</td>\n",
              "      <td>1341970</td>\n",
              "    </tr>\n",
              "    <tr>\n",
              "      <th>2</th>\n",
              "      <td>2020-06-10</td>\n",
              "      <td>180.052627</td>\n",
              "      <td>183.668142</td>\n",
              "      <td>179.284339</td>\n",
              "      <td>180.097824</td>\n",
              "      <td>1024793</td>\n",
              "    </tr>\n",
              "    <tr>\n",
              "      <th>3</th>\n",
              "      <td>2020-06-11</td>\n",
              "      <td>180.775730</td>\n",
              "      <td>181.905578</td>\n",
              "      <td>174.990912</td>\n",
              "      <td>175.894791</td>\n",
              "      <td>855456</td>\n",
              "    </tr>\n",
              "    <tr>\n",
              "      <th>4</th>\n",
              "      <td>2020-06-12</td>\n",
              "      <td>171.375387</td>\n",
              "      <td>176.482296</td>\n",
              "      <td>169.974373</td>\n",
              "      <td>175.352448</td>\n",
              "      <td>980250</td>\n",
              "    </tr>\n",
              "  </tbody>\n",
              "</table>\n",
              "</div>"
            ],
            "text/plain": [
              "        Date        Open        High         Low       Close   Volume\n",
              "0 2020-06-08  182.945035  184.074883  178.199672  178.742004   744734\n",
              "1 2020-06-09  179.826649  186.289389  178.696801  179.510300  1341970\n",
              "2 2020-06-10  180.052627  183.668142  179.284339  180.097824  1024793\n",
              "3 2020-06-11  180.775730  181.905578  174.990912  175.894791   855456\n",
              "4 2020-06-12  171.375387  176.482296  169.974373  175.352448   980250"
            ]
          },
          "metadata": {
            "tags": []
          },
          "execution_count": 4
        }
      ]
    },
    {
      "cell_type": "code",
      "metadata": {
        "colab": {
          "base_uri": "https://localhost:8080/",
          "height": 250
        },
        "id": "su4YCUcnVe7P",
        "outputId": "c3bf6c25-fb51-47ca-cdaf-040d86e41b96"
      },
      "source": [
        "#Creating a dataset with only Closing Price column and Date as index\n",
        "\n",
        "data = df.sort_index(ascending=True,axis=0)\n",
        "df1 = pd.DataFrame(index=range(0,len(df)),columns=['Date','Close'])\n",
        "for i in range(0,len(data)):\n",
        "    df1[\"Date\"][i]=data['Date'][i]\n",
        "    df1[\"Close\"][i]=data[\"Close\"][i]\n",
        "\n",
        "df1.index=df1.Date\n",
        "df1.drop(\"Date\",axis=1,inplace=True)\n",
        "print(df1.shape)\n",
        "df1.head()"
      ],
      "execution_count": 5,
      "outputs": [
        {
          "output_type": "stream",
          "text": [
            "(250, 1)\n"
          ],
          "name": "stdout"
        },
        {
          "output_type": "execute_result",
          "data": {
            "text/html": [
              "<div>\n",
              "<style scoped>\n",
              "    .dataframe tbody tr th:only-of-type {\n",
              "        vertical-align: middle;\n",
              "    }\n",
              "\n",
              "    .dataframe tbody tr th {\n",
              "        vertical-align: top;\n",
              "    }\n",
              "\n",
              "    .dataframe thead th {\n",
              "        text-align: right;\n",
              "    }\n",
              "</style>\n",
              "<table border=\"1\" class=\"dataframe\">\n",
              "  <thead>\n",
              "    <tr style=\"text-align: right;\">\n",
              "      <th></th>\n",
              "      <th>Close</th>\n",
              "    </tr>\n",
              "    <tr>\n",
              "      <th>Date</th>\n",
              "      <th></th>\n",
              "    </tr>\n",
              "  </thead>\n",
              "  <tbody>\n",
              "    <tr>\n",
              "      <th>2020-06-08</th>\n",
              "      <td>178.742</td>\n",
              "    </tr>\n",
              "    <tr>\n",
              "      <th>2020-06-09</th>\n",
              "      <td>179.51</td>\n",
              "    </tr>\n",
              "    <tr>\n",
              "      <th>2020-06-10</th>\n",
              "      <td>180.098</td>\n",
              "    </tr>\n",
              "    <tr>\n",
              "      <th>2020-06-11</th>\n",
              "      <td>175.895</td>\n",
              "    </tr>\n",
              "    <tr>\n",
              "      <th>2020-06-12</th>\n",
              "      <td>175.352</td>\n",
              "    </tr>\n",
              "  </tbody>\n",
              "</table>\n",
              "</div>"
            ],
            "text/plain": [
              "              Close\n",
              "Date               \n",
              "2020-06-08  178.742\n",
              "2020-06-09   179.51\n",
              "2020-06-10  180.098\n",
              "2020-06-11  175.895\n",
              "2020-06-12  175.352"
            ]
          },
          "metadata": {
            "tags": []
          },
          "execution_count": 5
        }
      ]
    },
    {
      "cell_type": "code",
      "metadata": {
        "id": "ZU9zQhsAVgwf"
      },
      "source": [
        "#Defining Function\n",
        "\n",
        "def EMA(data, window_size):\n",
        "\n",
        "  data1 = data\n",
        "  data1 = pd.Series(data1[\"Close\"])\n",
        "\n",
        "  #Calculating Exponential Moving average for a given time period\n",
        "  exponential_ma = data1.ewm(span = window_size, adjust = False).mean()\n",
        "  #Parsing the results as a new column in the existing data frame\n",
        "  data[\"Exponential_MA\"] = exponential_ma\n",
        "\n",
        "  return data"
      ],
      "execution_count": 6,
      "outputs": []
    },
    {
      "cell_type": "code",
      "metadata": {
        "colab": {
          "base_uri": "https://localhost:8080/",
          "height": 234
        },
        "id": "li7t6tCzVjvR",
        "outputId": "661b9da0-ee5a-4ea9-b0c1-ff8cc52369f7"
      },
      "source": [
        "#Implementing the function\n",
        "EMA(df1,30)\n",
        "df1.head()"
      ],
      "execution_count": 7,
      "outputs": [
        {
          "output_type": "execute_result",
          "data": {
            "text/html": [
              "<div>\n",
              "<style scoped>\n",
              "    .dataframe tbody tr th:only-of-type {\n",
              "        vertical-align: middle;\n",
              "    }\n",
              "\n",
              "    .dataframe tbody tr th {\n",
              "        vertical-align: top;\n",
              "    }\n",
              "\n",
              "    .dataframe thead th {\n",
              "        text-align: right;\n",
              "    }\n",
              "</style>\n",
              "<table border=\"1\" class=\"dataframe\">\n",
              "  <thead>\n",
              "    <tr style=\"text-align: right;\">\n",
              "      <th></th>\n",
              "      <th>Close</th>\n",
              "      <th>Exponential_MA</th>\n",
              "    </tr>\n",
              "    <tr>\n",
              "      <th>Date</th>\n",
              "      <th></th>\n",
              "      <th></th>\n",
              "    </tr>\n",
              "  </thead>\n",
              "  <tbody>\n",
              "    <tr>\n",
              "      <th>2020-06-08</th>\n",
              "      <td>178.742</td>\n",
              "      <td>178.742004</td>\n",
              "    </tr>\n",
              "    <tr>\n",
              "      <th>2020-06-09</th>\n",
              "      <td>179.51</td>\n",
              "      <td>178.791572</td>\n",
              "    </tr>\n",
              "    <tr>\n",
              "      <th>2020-06-10</th>\n",
              "      <td>180.098</td>\n",
              "      <td>178.875846</td>\n",
              "    </tr>\n",
              "    <tr>\n",
              "      <th>2020-06-11</th>\n",
              "      <td>175.895</td>\n",
              "      <td>178.683520</td>\n",
              "    </tr>\n",
              "    <tr>\n",
              "      <th>2020-06-12</th>\n",
              "      <td>175.352</td>\n",
              "      <td>178.468612</td>\n",
              "    </tr>\n",
              "  </tbody>\n",
              "</table>\n",
              "</div>"
            ],
            "text/plain": [
              "              Close  Exponential_MA\n",
              "Date                               \n",
              "2020-06-08  178.742      178.742004\n",
              "2020-06-09   179.51      178.791572\n",
              "2020-06-10  180.098      178.875846\n",
              "2020-06-11  175.895      178.683520\n",
              "2020-06-12  175.352      178.468612"
            ]
          },
          "metadata": {
            "tags": []
          },
          "execution_count": 7
        }
      ]
    },
    {
      "cell_type": "code",
      "metadata": {
        "colab": {
          "base_uri": "https://localhost:8080/",
          "height": 513
        },
        "id": "LQ4YQ-HNVlYg",
        "outputId": "b7448167-8257-491b-92bf-41be5acb50df"
      },
      "source": [
        "#Plotting Exponential Moving Average wrt to Closing Price\n",
        "\n",
        "#Setting labels\n",
        "plt.figure(figsize=(17,8))\n",
        "plt.xlabel(\"Year\")\n",
        "\n",
        "plt.ylabel(\"Closing Price in INR\")\n",
        "plt.title(\"EXPONENTIAL MOVING AVERAGE INDICATOR\")\n",
        "\n",
        "#Let's go\n",
        "plt.plot(df1[['Close', 'Exponential_MA']])\n",
        "plt.legend([\"Closing Price\",\"EMA\"], loc =\"lower right\")\n",
        "plt.show()"
      ],
      "execution_count": 9,
      "outputs": [
        {
          "output_type": "display_data",
          "data": {
            "image/png": "[encoded data removed]",
            "text/plain": [
              "<Figure size 1224x576 with 1 Axes>"
            ]
          },
          "metadata": {
            "tags": [],
            "needs_background": "light"
          }
        }
      ]
    }
  ]
}